{
 "cells": [
  {
   "cell_type": "code",
   "execution_count": 9,
   "id": "1f83608f",
   "metadata": {},
   "outputs": [],
   "source": [
    "#1.[] are brackets used for creating lists, list slicing."
   ]
  },
  {
   "cell_type": "code",
   "execution_count": 10,
   "id": "c76b9f3d",
   "metadata": {},
   "outputs": [],
   "source": [
    "# By inserting we can assign the value 'hello as the third value'\n",
    "spam = [2,4,6,8,10]\n",
    "spam.insert(2,'hello') #3rd value is at index 2"
   ]
  },
  {
   "cell_type": "code",
   "execution_count": 11,
   "id": "d3750b77",
   "metadata": {},
   "outputs": [
    {
     "data": {
      "text/plain": [
       "[2, 4, 'hello', 6, 8, 10]"
      ]
     },
     "execution_count": 11,
     "metadata": {},
     "output_type": "execute_result"
    }
   ],
   "source": [
    "spam"
   ]
  },
  {
   "cell_type": "code",
   "execution_count": 16,
   "id": "75863c3e",
   "metadata": {},
   "outputs": [
    {
     "data": {
      "text/plain": [
       "'d'"
      ]
     },
     "execution_count": 16,
     "metadata": {},
     "output_type": "execute_result"
    }
   ],
   "source": [
    "#3\n",
    "spam = ['a','b','c','d']\n",
    "spam[int(int('3'*2)/11)]"
   ]
  },
  {
   "cell_type": "code",
   "execution_count": 17,
   "id": "579597ae",
   "metadata": {},
   "outputs": [
    {
     "data": {
      "text/plain": [
       "'d'"
      ]
     },
     "execution_count": 17,
     "metadata": {},
     "output_type": "execute_result"
    }
   ],
   "source": [
    "#4\n",
    "spam[-1]"
   ]
  },
  {
   "cell_type": "code",
   "execution_count": 18,
   "id": "804d6913",
   "metadata": {},
   "outputs": [
    {
     "data": {
      "text/plain": [
       "['a', 'b']"
      ]
     },
     "execution_count": 18,
     "metadata": {},
     "output_type": "execute_result"
    }
   ],
   "source": [
    "#5\n",
    "spam[:2]"
   ]
  },
  {
   "cell_type": "code",
   "execution_count": 20,
   "id": "2ad3f4f2",
   "metadata": {},
   "outputs": [
    {
     "data": {
      "text/plain": [
       "1"
      ]
     },
     "execution_count": 20,
     "metadata": {},
     "output_type": "execute_result"
    }
   ],
   "source": [
    "#6\n",
    "Bacon = [3.14,'cat',11,'cat',True]\n",
    "Bacon.index('cat')"
   ]
  },
  {
   "cell_type": "code",
   "execution_count": 35,
   "id": "7180fc42",
   "metadata": {},
   "outputs": [],
   "source": [
    "#7\n",
    "Bacon.append(99)"
   ]
  },
  {
   "cell_type": "code",
   "execution_count": 38,
   "id": "698462be",
   "metadata": {},
   "outputs": [
    {
     "data": {
      "text/plain": [
       "[3.14, 'cat', 11, 'cat', 99]"
      ]
     },
     "execution_count": 38,
     "metadata": {},
     "output_type": "execute_result"
    }
   ],
   "source": [
    "Bacon"
   ]
  },
  {
   "cell_type": "code",
   "execution_count": 39,
   "id": "0ad1b395",
   "metadata": {},
   "outputs": [],
   "source": [
    "#8\n",
    "Bacon.remove('cat')"
   ]
  },
  {
   "cell_type": "code",
   "execution_count": 41,
   "id": "56980532",
   "metadata": {},
   "outputs": [],
   "source": [
    "#9 List concatenation operator is '+' and list replication operator is '*'."
   ]
  },
  {
   "cell_type": "code",
   "execution_count": 42,
   "id": "93afdc8e",
   "metadata": {},
   "outputs": [],
   "source": [
    "#10 list method append() is add in the end while insert() can be added anywhere in the list"
   ]
  },
  {
   "cell_type": "code",
   "execution_count": 43,
   "id": "1ca0e567",
   "metadata": {},
   "outputs": [],
   "source": [
    "#11 The 2 methods are remove() and pop().\n"
   ]
  },
  {
   "cell_type": "code",
   "execution_count": 44,
   "id": "86ba691c",
   "metadata": {},
   "outputs": [],
   "source": [
    "#12 Both list and strings can have indexes and slices and they are used in for loops, be concatenated or repicated, and can be used with the in and not in operation "
   ]
  },
  {
   "cell_type": "code",
   "execution_count": 45,
   "id": "e07ab868",
   "metadata": {},
   "outputs": [],
   "source": [
    "#13 The difference is lists are mutable but tuples are immutable."
   ]
  },
  {
   "cell_type": "code",
   "execution_count": 48,
   "id": "6738819b",
   "metadata": {},
   "outputs": [
    {
     "data": {
      "text/plain": [
       "tuple"
      ]
     },
     "execution_count": 48,
     "metadata": {},
     "output_type": "execute_result"
    }
   ],
   "source": [
    "#14 \n",
    "l = (42,)\n",
    "type(l)"
   ]
  },
  {
   "cell_type": "code",
   "execution_count": 49,
   "id": "fa8e0369",
   "metadata": {},
   "outputs": [],
   "source": [
    "#15 By using list() and tuple() function.\n"
   ]
  },
  {
   "cell_type": "code",
   "execution_count": 50,
   "id": "10b99b68",
   "metadata": {},
   "outputs": [],
   "source": [
    "#16 They contain references to list values."
   ]
  },
  {
   "cell_type": "code",
   "execution_count": 51,
   "id": "11eefdfd",
   "metadata": {},
   "outputs": [
    {
     "name": "stdout",
     "output_type": "stream",
     "text": [
      "a: ([2, 4, 6], [3, 'apple', 7])\n",
      "b: ([2, 4, 6], [3, 'apple', 7])\n"
     ]
    }
   ],
   "source": [
    "#17 \n",
    "import copy\n",
    "a = [2,4,6],[3,5,7]\n",
    "b =  copy.copy(a)\n",
    "a[1][1] = \"apple\"\n",
    "print(\"a:\", a)\n",
    "print(\"b:\", b)"
   ]
  },
  {
   "cell_type": "code",
   "execution_count": 52,
   "id": "5f1759ea",
   "metadata": {},
   "outputs": [
    {
     "name": "stdout",
     "output_type": "stream",
     "text": [
      "a: ([2, 4, 6], [3, 'apple', 7])\n",
      "b: ([2, 4, 6], [3, 5, 7])\n"
     ]
    }
   ],
   "source": [
    "import copy\n",
    "a = [2,4,6],[3,5,7]\n",
    "b =  copy.deepcopy(a)\n",
    "a[1][1] = \"apple\"\n",
    "print(\"a:\", a)\n",
    "print(\"b:\", b)"
   ]
  },
  {
   "cell_type": "code",
   "execution_count": 1,
   "id": "b7bc9923",
   "metadata": {},
   "outputs": [],
   "source": [
    "#we can see that when we use function copy() it modify both 'a' and 'b' but when we use function deepcopy() it only modify 'a' not 'b' "
   ]
  },
  {
   "cell_type": "code",
   "execution_count": null,
   "id": "17ebc409",
   "metadata": {},
   "outputs": [],
   "source": []
  }
 ],
 "metadata": {
  "kernelspec": {
   "display_name": "Python 3",
   "language": "python",
   "name": "python3"
  },
  "language_info": {
   "codemirror_mode": {
    "name": "ipython",
    "version": 3
   },
   "file_extension": ".py",
   "mimetype": "text/x-python",
   "name": "python",
   "nbconvert_exporter": "python",
   "pygments_lexer": "ipython3",
   "version": "3.8.8"
  }
 },
 "nbformat": 4,
 "nbformat_minor": 5
}
