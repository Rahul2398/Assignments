{
 "cells": [
  {
   "cell_type": "code",
   "execution_count": null,
   "id": "af48224c",
   "metadata": {},
   "outputs": [],
   "source": [
    "#1. Avantages of using functions are as follows:\n",
    "#i. Using it we can avoid writing lenghty codes again and again.\n",
    "#ii. We can use functions anytime in programming once we have created.\n",
    "#iii. Functions can also be shared with other programs, which heps in reducing the amount of code that has to be written from starting."
   ]
  },
  {
   "cell_type": "code",
   "execution_count": null,
   "id": "0a347ec3",
   "metadata": {},
   "outputs": [],
   "source": [
    "#2. The code in a function runs when it's called."
   ]
  },
  {
   "cell_type": "code",
   "execution_count": null,
   "id": "c08d2954",
   "metadata": {},
   "outputs": [],
   "source": [
    "#3. The 'def' keyword is a statement for defining a function in Python. Start a function with the def keyword then specify a name followed by a colon () sign then comes the function body.\n"
   ]
  },
  {
   "cell_type": "code",
   "execution_count": null,
   "id": "5d9a6951",
   "metadata": {},
   "outputs": [],
   "source": [
    "#4. A function is a collection of statements which we create to achive particular result whereas 'function call' means calling function to achive that task.\n",
    "         "
   ]
  },
  {
   "cell_type": "code",
   "execution_count": null,
   "id": "c3575bb6",
   "metadata": {},
   "outputs": [],
   "source": [
    "#5. There is only one global Python scope per program execution.The local scope is a Python scope created at function calls. Every time you call a function, you’re also creating a new local scope.  "
   ]
  },
  {
   "cell_type": "code",
   "execution_count": null,
   "id": "e0f5026d",
   "metadata": {},
   "outputs": [],
   "source": [
    "#6. When a function returns, the local scope is destroyed, and all the variables in it are forgotten."
   ]
  },
  {
   "cell_type": "code",
   "execution_count": null,
   "id": "1de46360",
   "metadata": {},
   "outputs": [],
   "source": [
    "#7. The return statement is used to make your functions send Python objects back to the caller code. These objects are known as the function’s return value. Yes it is possible to have a return value in an expression."
   ]
  },
  {
   "cell_type": "code",
   "execution_count": null,
   "id": "cffc516f",
   "metadata": {},
   "outputs": [],
   "source": [
    "#8. If a function doesn't have a return value, it returns None."
   ]
  },
  {
   "cell_type": "code",
   "execution_count": null,
   "id": "efdb0565",
   "metadata": {},
   "outputs": [],
   "source": [
    "#9. By using global keyword."
   ]
  },
  {
   "cell_type": "code",
   "execution_count": null,
   "id": "c5b82958",
   "metadata": {},
   "outputs": [],
   "source": [
    "#10. Data type of none is NULL"
   ]
  },
  {
   "cell_type": "code",
   "execution_count": null,
   "id": "5962fe27",
   "metadata": {},
   "outputs": [],
   "source": [
    "#11.That import statement imports a module named areallyourpetsnamederic"
   ]
  },
  {
   "cell_type": "code",
   "execution_count": null,
   "id": "591f4382",
   "metadata": {},
   "outputs": [],
   "source": [
    "#12. This function can be called with spam.bacon()."
   ]
  },
  {
   "cell_type": "code",
   "execution_count": null,
   "id": "35e3f64a",
   "metadata": {},
   "outputs": [],
   "source": [
    "#13. Place the line of code that might cause an error in a try clause."
   ]
  },
  {
   "cell_type": "code",
   "execution_count": null,
   "id": "493cf06e",
   "metadata": {},
   "outputs": [],
   "source": [
    "#14. We used 'Try' and 'Except' in exception handling,the purpose of try block is to execute when there is no error in the program whereas the code inside the except block will execute whenever the program encounters some error in the preceding try block."
   ]
  },
  {
   "cell_type": "code",
   "execution_count": null,
   "id": "5fd6bbc8",
   "metadata": {},
   "outputs": [],
   "source": []
  }
 ],
 "metadata": {
  "kernelspec": {
   "display_name": "Python 3",
   "language": "python",
   "name": "python3"
  },
  "language_info": {
   "codemirror_mode": {
    "name": "ipython",
    "version": 3
   },
   "file_extension": ".py",
   "mimetype": "text/x-python",
   "name": "python",
   "nbconvert_exporter": "python",
   "pygments_lexer": "ipython3",
   "version": "3.8.8"
  }
 },
 "nbformat": 4,
 "nbformat_minor": 5
}
