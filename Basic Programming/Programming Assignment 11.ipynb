{
 "cells": [
  {
   "cell_type": "markdown",
   "id": "094ea968",
   "metadata": {},
   "source": [
    "#### 1.\tWrite a Python program to find words which are greater than given length k?"
   ]
  },
  {
   "cell_type": "code",
   "execution_count": 7,
   "id": "8a6f9bc1",
   "metadata": {},
   "outputs": [
    {
     "name": "stdout",
     "output_type": "stream",
     "text": [
      "['Hello', 'Mark', 'how', 'are', 'you']\n"
     ]
    }
   ],
   "source": [
    "def Words(k,str):\n",
    "    string = []\n",
    "    text = str.split(\" \")\n",
    "    for i in text:\n",
    "        if len(i) > k:\n",
    "            string.append(i)\n",
    "    return string\n",
    "\n",
    "k = 2\n",
    "str = \"Hello Mark how are you \"\n",
    "a=Words(k,str)\n",
    "print(a)"
   ]
  },
  {
   "cell_type": "markdown",
   "id": "56b0eb8b",
   "metadata": {},
   "source": [
    "#### 2.\tWrite a Python program for removing i-th character from a string?"
   ]
  },
  {
   "cell_type": "code",
   "execution_count": 2,
   "id": "86ec64ac",
   "metadata": {
    "scrolled": true
   },
   "outputs": [
    {
     "name": "stdout",
     "output_type": "stream",
     "text": [
      "Apple\n",
      "Removed Character: \n",
      " s\n"
     ]
    }
   ],
   "source": [
    "def remove(string, i):\n",
    "\n",
    "    for j in range(len(string)):\n",
    "        if j == i:\n",
    "            string = string.replace(string[i], \"\", 1)\n",
    "    return string\n",
    "    \n",
    "\n",
    "\n",
    "string = \"Apples\"\n",
    "i = 5\n",
    "print(remove(string, i))\n",
    "print(\"Removed Character: \\n\", string[i])\n",
    " "
   ]
  },
  {
   "cell_type": "markdown",
   "id": "59c78e5a",
   "metadata": {},
   "source": [
    "#### 3.\tWrite a Python program to split and join a string?"
   ]
  },
  {
   "cell_type": "code",
   "execution_count": 3,
   "id": "3960f8a8",
   "metadata": {},
   "outputs": [
    {
     "name": "stdout",
     "output_type": "stream",
     "text": [
      "['This', 'is', 'a', 'Jupyter', 'Notebook']\n"
     ]
    }
   ],
   "source": [
    "String = \"This is a Jupyter Notebook\"\n",
    "String = String.split(\" \") # a is converted to a list of strings. \n",
    "print(String)\n"
   ]
  },
  {
   "cell_type": "code",
   "execution_count": 12,
   "id": "0dae03c4",
   "metadata": {},
   "outputs": [
    {
     "name": "stdout",
     "output_type": "stream",
     "text": [
      "This-is-a-Jupyter-Notebook\n"
     ]
    }
   ],
   "source": [
    "a = \"-\".join(a)\n",
    "print (a)"
   ]
  },
  {
   "cell_type": "markdown",
   "id": "2bfa8d37",
   "metadata": {},
   "source": [
    "#### 4.\tWrite a Python to check if a given string is binary string or not?"
   ]
  },
  {
   "cell_type": "code",
   "execution_count": 17,
   "id": "9001620f",
   "metadata": {},
   "outputs": [],
   "source": [
    "def check(string) :\n",
    "    b = set(string)\n",
    "    s = {'0', '1'}\n",
    "    if s == b or b == {'0'} or b == {'1'}:\n",
    "        print(\"Binary String\")\n",
    "    else :\n",
    "        print(\"Non Binary String\")\n",
    "\n",
    "        \n"
   ]
  },
  {
   "cell_type": "code",
   "execution_count": 24,
   "id": "978efafc",
   "metadata": {},
   "outputs": [
    {
     "name": "stdout",
     "output_type": "stream",
     "text": [
      "Binary String\n",
      "Non Binary String\n"
     ]
    }
   ],
   "source": [
    "s1 = \"00110101\"\n",
    "# function calling\n",
    "check(s1)\n",
    "s2 = \"1010100200111\"\n",
    "check(s2)"
   ]
  },
  {
   "cell_type": "markdown",
   "id": "3f369d6a",
   "metadata": {},
   "source": [
    "#### 5.\tWrite a Python program to find uncommon words from two Strings?\n"
   ]
  },
  {
   "cell_type": "code",
   "execution_count": 20,
   "id": "2af48cb5",
   "metadata": {},
   "outputs": [
    {
     "name": "stdout",
     "output_type": "stream",
     "text": [
      "Enter first string : We are at old Trafford stadium \n",
      "Enter second string : we will be at old Trafford stadium\n",
      "All uncommon words from both the string are   We are we will be\n"
     ]
    }
   ],
   "source": [
    "str1 = input('Enter first string : ')\n",
    "str2 = input('Enter second string : ')\n",
    "\n",
    "# finding uncommon words\n",
    "str1List = str1.split()\n",
    "str2List = str2.split()\n",
    "uncommonWords = ''\n",
    "for words in str1List:\n",
    "    if words not in str2List:\n",
    "        uncommonWords = uncommonWords+\" \"+words\n",
    "for words in str2List:\n",
    "    if words not in str1List:\n",
    "        uncommonWords = uncommonWords+\" \"+words\n",
    "\n",
    "        \n",
    "# printing uncommon words \n",
    "print(\"All uncommon words from both the string are \", uncommonWords)\n"
   ]
  },
  {
   "cell_type": "markdown",
   "id": "11fdceef",
   "metadata": {},
   "source": [
    "#### 6.\tWrite a Python to find all duplicate characters in string?\n"
   ]
  },
  {
   "cell_type": "code",
   "execution_count": 26,
   "id": "da64eb4d",
   "metadata": {},
   "outputs": [
    {
     "name": "stdout",
     "output_type": "stream",
     "text": [
      "a i n e\n"
     ]
    }
   ],
   "source": [
    "string = \"Machine Learning\"\n",
    "duplicates = []\n",
    "for A in string:\n",
    "    if string.count(A) > 1:\n",
    "        if A not in duplicates:\n",
    "            duplicates.append(A)\n",
    "print(*duplicates)"
   ]
  },
  {
   "cell_type": "markdown",
   "id": "a4ec4c5a",
   "metadata": {},
   "source": [
    "#### 7.\tWrite a Python Program to check if a string contains any special character?\n"
   ]
  },
  {
   "cell_type": "code",
   "execution_count": 28,
   "id": "37c9f1d5",
   "metadata": {},
   "outputs": [
    {
     "name": "stdout",
     "output_type": "stream",
     "text": [
      "Enter the string: id@yahoo.com, id@google.com\n",
      "There are 2 Speical Characters in id@yahoo.com, id@google.com which are ['@', '@']\n"
     ]
    }
   ],
   "source": [
    "def SpecialChar():\n",
    "    spl_chars = '[@_!#$%^&*()<>?/\\|}{~:]'\n",
    "    num = input('Enter the string: ')\n",
    "    count = 0\n",
    "    cha_list = []\n",
    "    for e in num:\n",
    "        if e in spl_chars:\n",
    "            cha_list.append(e)\n",
    "            count = count+1\n",
    "    print(f'There are {count} Speical Characters in {num} which are {cha_list}')\n",
    "            \n",
    "        \n",
    "\n",
    "SpecialChar()"
   ]
  },
  {
   "cell_type": "code",
   "execution_count": null,
   "id": "bb2783a3",
   "metadata": {},
   "outputs": [],
   "source": []
  }
 ],
 "metadata": {
  "kernelspec": {
   "display_name": "Python 3",
   "language": "python",
   "name": "python3"
  },
  "language_info": {
   "codemirror_mode": {
    "name": "ipython",
    "version": 3
   },
   "file_extension": ".py",
   "mimetype": "text/x-python",
   "name": "python",
   "nbconvert_exporter": "python",
   "pygments_lexer": "ipython3",
   "version": "3.8.8"
  }
 },
 "nbformat": 4,
 "nbformat_minor": 5
}
