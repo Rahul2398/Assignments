{
 "cells": [
  {
   "cell_type": "markdown",
   "id": "daae6990",
   "metadata": {},
   "source": [
    "#### 1.\tWrite a Python program to find sum of elements in list?\n"
   ]
  },
  {
   "cell_type": "code",
   "execution_count": 2,
   "id": "eb7223e6",
   "metadata": {},
   "outputs": [
    {
     "name": "stdout",
     "output_type": "stream",
     "text": [
      "11\n"
     ]
    }
   ],
   "source": [
    "def sum_list(items):\n",
    "    sum_numbers = 0\n",
    "    for x in items:\n",
    "        sum_numbers += x\n",
    "    return sum_numbers\n",
    "print(sum_list([13,26,-28]))\n"
   ]
  },
  {
   "cell_type": "markdown",
   "id": "9a340ad2",
   "metadata": {},
   "source": [
    "#### 2.\tWrite a Python program to  Multiply all numbers in the list?\n"
   ]
  },
  {
   "cell_type": "code",
   "execution_count": 7,
   "id": "48407ef2",
   "metadata": {},
   "outputs": [
    {
     "name": "stdout",
     "output_type": "stream",
     "text": [
      "48\n"
     ]
    }
   ],
   "source": [
    "def sum_list(items):\n",
    "    sum_numbers = 1\n",
    "    for x in items:\n",
    "        sum_numbers *=x\n",
    "    return sum_numbers\n",
    "print(sum_list([1,6,8]))"
   ]
  },
  {
   "cell_type": "markdown",
   "id": "75fe54a0",
   "metadata": {},
   "source": [
    "#### 3.\tWrite a Python program to find smallest number in a list?\n"
   ]
  },
  {
   "cell_type": "code",
   "execution_count": 10,
   "id": "6d1805fc",
   "metadata": {},
   "outputs": [
    {
     "name": "stdout",
     "output_type": "stream",
     "text": [
      "The smallest number in a list: [21]\n"
     ]
    }
   ],
   "source": [
    "list = [21,32,56,79,43]\n",
    "list.sort()\n",
    "print(\"The smallest number in a list:\",list[:1])"
   ]
  },
  {
   "cell_type": "markdown",
   "id": "c40f346a",
   "metadata": {},
   "source": [
    "#### 4.\tWrite a Python program to find largest number in a list?\n"
   ]
  },
  {
   "cell_type": "code",
   "execution_count": 17,
   "id": "179dd3b1",
   "metadata": {},
   "outputs": [
    {
     "name": "stdout",
     "output_type": "stream",
     "text": [
      "The Largest number in a list: 79\n"
     ]
    }
   ],
   "source": [
    "list = [21,32,56,79,43]\n",
    "list.sort()\n",
    "print(\"The Largest number in a list:\",list[-1])"
   ]
  },
  {
   "cell_type": "markdown",
   "id": "509e1462",
   "metadata": {},
   "source": [
    "#### 5.\tWrite a Python program to find second largest number in a list?\n"
   ]
  },
  {
   "cell_type": "code",
   "execution_count": 18,
   "id": "d316a00f",
   "metadata": {},
   "outputs": [
    {
     "name": "stdout",
     "output_type": "stream",
     "text": [
      "The 2nd Largest number in a list: 56\n"
     ]
    }
   ],
   "source": [
    "list = [21,32,56,79,43]\n",
    "list.sort()\n",
    "print(\"The 2nd Largest number in a list:\",list[-2])"
   ]
  },
  {
   "cell_type": "markdown",
   "id": "75a1fc64",
   "metadata": {},
   "source": [
    "#### 6.\tWrite a Python program to find N largest elements from a list?"
   ]
  },
  {
   "cell_type": "code",
   "execution_count": 36,
   "id": "2d04072f",
   "metadata": {},
   "outputs": [
    {
     "name": "stdout",
     "output_type": "stream",
     "text": [
      "Enter No. of Largest Numbers Needed: 3\n",
      "[78, 123, 425]\n"
     ]
    }
   ],
   "source": [
    "n = [425,65,123,78]\n",
    "n.sort()\n",
    "x = int(input('Enter No. of Largest Numbers Needed: '))\n",
    "print(n[-x:])"
   ]
  },
  {
   "cell_type": "markdown",
   "id": "30420fa1",
   "metadata": {},
   "source": [
    "#### 7.\tWrite a Python program to print even numbers in a list?\n"
   ]
  },
  {
   "cell_type": "code",
   "execution_count": 8,
   "id": "1e240ed1",
   "metadata": {},
   "outputs": [
    {
     "name": "stdout",
     "output_type": "stream",
     "text": [
      "Even Numbers:  [32, 56]\n"
     ]
    }
   ],
   "source": [
    "list = [21,32,56,79,43]\n",
    "Even_Number = [i for i in list if i%2 ==0]\n",
    "print(\"Even Numbers: \", Even_Number)\n"
   ]
  },
  {
   "cell_type": "markdown",
   "id": "df8f4810",
   "metadata": {},
   "source": [
    "#### 8.\tWrite a Python program to print odd numbers in a List?\n"
   ]
  },
  {
   "cell_type": "code",
   "execution_count": 9,
   "id": "e18aac5d",
   "metadata": {},
   "outputs": [
    {
     "name": "stdout",
     "output_type": "stream",
     "text": [
      "Odd Numbers: [21, 79, 43]\n"
     ]
    }
   ],
   "source": [
    "list = [21,32,56,79,43]\n",
    "Odd_Number = [i for i in list if i%2 !=0]\n",
    "print('Odd Numbers:', Odd_Number)"
   ]
  },
  {
   "cell_type": "markdown",
   "id": "12420ecf",
   "metadata": {},
   "source": [
    "#### 9.\tWrite a Python program to Remove empty List from List?\n"
   ]
  },
  {
   "cell_type": "code",
   "execution_count": 10,
   "id": "85a202de",
   "metadata": {},
   "outputs": [
    {
     "name": "stdout",
     "output_type": "stream",
     "text": [
      "The original list is : [55, 39, [], 13, [], [], 99]\n",
      "List after empty list removal : [55, 39, 13, 99]\n"
     ]
    }
   ],
   "source": [
    "test_list = [55, 39, [], 13, [], [], 99]\n",
    "\n",
    "# printing original list\n",
    "print(\"The original list is : \" + str(test_list))\n",
    "\n",
    "# Remove empty List from List\n",
    "# using list comprehension\n",
    "res = [A for A in test_list if A != []]\n",
    "\n",
    "# printing result\n",
    "print (\"List after empty list removal : \" + str(res))\n"
   ]
  },
  {
   "cell_type": "markdown",
   "id": "fa7005ae",
   "metadata": {},
   "source": [
    "#### 10.\tWrite a Python program to Cloning or Copying a list?\n"
   ]
  },
  {
   "cell_type": "code",
   "execution_count": 12,
   "id": "38f610fa",
   "metadata": {},
   "outputs": [
    {
     "name": "stdout",
     "output_type": "stream",
     "text": [
      "Original List: [4, 8, 16, 32, 64, 128]\n",
      "After Cloning: [4, 8, 16, 32, 64, 128]\n"
     ]
    }
   ],
   "source": [
    "def Cloning(list1):\n",
    "    list_copy = [i for i in list1]\n",
    "    return list_copy\n",
    "\n",
    "# Driver Code\n",
    "li1 = [4, 8, 16, 32, 64, 128]\n",
    "li2 = Cloning(li1)\n",
    "print(\"Original List:\", li1)\n",
    "print(\"After Cloning:\", li2)\n"
   ]
  },
  {
   "cell_type": "markdown",
   "id": "52bfedb5",
   "metadata": {},
   "source": [
    "#### 11.\tWrite a Python program to Count occurrences of an element in a list?\n"
   ]
  },
  {
   "cell_type": "code",
   "execution_count": 20,
   "id": "6e6852a6",
   "metadata": {},
   "outputs": [
    {
     "name": "stdout",
     "output_type": "stream",
     "text": [
      "4 has occurred 2 times\n"
     ]
    }
   ],
   "source": [
    "# Python code to count the number of occurrences\n",
    "def countX(lst, x):\n",
    "    count = 0\n",
    "    for s in lst:\n",
    "        if (s == x):\n",
    "            count = count + 1\n",
    "    return count\n",
    "\n",
    "# Driver Code\n",
    "lst = [4, 6, 4, 10, 8, 20, 10, 8, 8]\n",
    "x = 4\n",
    "print('%a has occurred %a times'  %(x, countX(lst, x)))\n"
   ]
  }
 ],
 "metadata": {
  "kernelspec": {
   "display_name": "Python 3",
   "language": "python",
   "name": "python3"
  },
  "language_info": {
   "codemirror_mode": {
    "name": "ipython",
    "version": 3
   },
   "file_extension": ".py",
   "mimetype": "text/x-python",
   "name": "python",
   "nbconvert_exporter": "python",
   "pygments_lexer": "ipython3",
   "version": "3.8.8"
  }
 },
 "nbformat": 4,
 "nbformat_minor": 5
}
