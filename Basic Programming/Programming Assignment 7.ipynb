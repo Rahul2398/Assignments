{
 "cells": [
  {
   "cell_type": "markdown",
   "id": "e77b188b",
   "metadata": {},
   "source": [
    "#### 1 Write a Python Program to find sum of array?"
   ]
  },
  {
   "cell_type": "code",
   "execution_count": 1,
   "id": "9939a03a",
   "metadata": {},
   "outputs": [
    {
     "name": "stdout",
     "output_type": "stream",
     "text": [
      "Sum of the array is  112\n"
     ]
    }
   ],
   "source": [
    "arr = []\n",
    "  \n",
    "# input values to list\n",
    "arr = [12, 31, 54, 15]\n",
    "  \n",
    "ans = sum(arr)\n",
    "  \n",
    "print ('Sum of the array is ',ans)\n",
    "\n",
    "\n"
   ]
  },
  {
   "cell_type": "markdown",
   "id": "cb64a889",
   "metadata": {},
   "source": [
    "#### 2. Write a Python Program to find largest element in an array?\n"
   ]
  },
  {
   "cell_type": "code",
   "execution_count": 6,
   "id": "d88e8f7c",
   "metadata": {},
   "outputs": [
    {
     "name": "stdout",
     "output_type": "stream",
     "text": [
      "Largest Number :  [54]\n"
     ]
    }
   ],
   "source": [
    "arr = []\n",
    "  \n",
    "# input values to list\n",
    "arr = [12, 31, 54, 15]\n",
    "arr.sort()\n",
    "print(\"Largest Number : \", arr[-1:])"
   ]
  },
  {
   "cell_type": "markdown",
   "id": "8c21a7c0",
   "metadata": {},
   "source": [
    "#### 3. Write a Python Program for array rotation?\n"
   ]
  },
  {
   "cell_type": "code",
   "execution_count": 6,
   "id": "d93ce7cc",
   "metadata": {},
   "outputs": [
    {
     "data": {
      "text/plain": [
       "[15, 54, 31, 12]"
      ]
     },
     "execution_count": 6,
     "metadata": {},
     "output_type": "execute_result"
    }
   ],
   "source": [
    "arr = []\n",
    "  \n",
    "# input values to list\n",
    "arr = [12, 31, 54, 15]\n",
    "arr.reverse()\n",
    "arr\n"
   ]
  },
  {
   "cell_type": "markdown",
   "id": "1ed996f0",
   "metadata": {},
   "source": [
    "#### 4. Write a Python Program to Split the array and add the first part to the end?\n"
   ]
  },
  {
   "cell_type": "code",
   "execution_count": 20,
   "id": "5572d2bd",
   "metadata": {},
   "outputs": [
    {
     "data": {
      "text/plain": [
       "[10, 12, 14, 16, 2, 4, 6, 8]"
      ]
     },
     "execution_count": 20,
     "metadata": {},
     "output_type": "execute_result"
    }
   ],
   "source": [
    "def splitadd(arr, n, k):\n",
    "    b = arr[:k]\n",
    "    return (arr[k:] + b)\n",
    "\n",
    "\n",
    "arr = [2,4,6,8,10,12,14,16]\n",
    "n = len(arr)\n",
    "k = 4\n",
    "splitadd(arr,n,k)"
   ]
  },
  {
   "cell_type": "markdown",
   "id": "dbc22855",
   "metadata": {},
   "source": [
    "#### 5. Write a Python Program to check if given array is Monotonic?\n"
   ]
  },
  {
   "cell_type": "code",
   "execution_count": 42,
   "id": "fe707c57",
   "metadata": {},
   "outputs": [
    {
     "name": "stdout",
     "output_type": "stream",
     "text": [
      "False\n"
     ]
    }
   ],
   "source": [
    "def isMonotonic(A):\n",
    "\n",
    "    return (all(A[i] <= A[i + 1] for i in range(len(A) - 1)) or\n",
    "            all(A[i] >= A[i + 1] for i in range(len(A) - 1)))\n",
    "\n",
    "\n",
    "A = [0, 7, 8, 6]\n",
    "\n",
    "# Print required result\n",
    "print(isMonotonic(A))\n",
    "\n"
   ]
  },
  {
   "cell_type": "code",
   "execution_count": null,
   "id": "4796c463",
   "metadata": {},
   "outputs": [],
   "source": []
  }
 ],
 "metadata": {
  "kernelspec": {
   "display_name": "Python 3",
   "language": "python",
   "name": "python3"
  },
  "language_info": {
   "codemirror_mode": {
    "name": "ipython",
    "version": 3
   },
   "file_extension": ".py",
   "mimetype": "text/x-python",
   "name": "python",
   "nbconvert_exporter": "python",
   "pygments_lexer": "ipython3",
   "version": "3.8.8"
  }
 },
 "nbformat": 4,
 "nbformat_minor": 5
}
