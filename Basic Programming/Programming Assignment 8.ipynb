{
 "cells": [
  {
   "cell_type": "markdown",
   "id": "86cc0b33",
   "metadata": {},
   "source": [
    "#### 1. Write a Python Program to Add Two Matrices?\n"
   ]
  },
  {
   "cell_type": "code",
   "execution_count": 1,
   "id": "44707871",
   "metadata": {},
   "outputs": [
    {
     "name": "stdout",
     "output_type": "stream",
     "text": [
      "[63, 102, 14]\n",
      "[104, 60, 66]\n",
      "[79, 137, 68]\n"
     ]
    }
   ],
   "source": [
    "\n",
    "X = [[12,17,13],\n",
    "    [42 ,53,63],\n",
    "    [75 ,85,59]]\n",
    "\n",
    "Y = [[51,85,1],\n",
    "    [62,7,3],\n",
    "    [4,52,9]]\n",
    "\n",
    "result = [[0,0,0],\n",
    "         [0,0,0],\n",
    "         [0,0,0]]\n",
    "\n",
    "# iterate through rows\n",
    "for i in range(len(X)):\n",
    "    for j in range(len(X[0])):\n",
    "        result[i][j] = X[i][j] + Y[i][j]\n",
    "        \n",
    "        \n",
    "for a in result:\n",
    "    print(a)\n",
    "\n",
    "\n",
    "\n",
    "    \n",
    "\n",
    "\n",
    "\n"
   ]
  },
  {
   "cell_type": "markdown",
   "id": "0f538622",
   "metadata": {},
   "source": [
    "#### 2 Write a Python Program to Multiply Two Matrices?\n"
   ]
  },
  {
   "cell_type": "code",
   "execution_count": null,
   "id": "a2464853",
   "metadata": {},
   "outputs": [],
   "source": [
    "\n",
    "X = [[32,27,23],\n",
    "    [34 ,45,16],\n",
    "    [43 ,78,96]]\n",
    "\n",
    "Y = [[15,18,21],\n",
    "    [68,47,33],\n",
    "    [45,53,94]]\n",
    "\n",
    "result = [[0,0,0],\n",
    "         [0,0,0],\n",
    "         [0,0,0]]\n",
    "\n",
    "# iterate through rows\n",
    "for i in range(len(X)):\n",
    "    for j in range(len(X[0])):\n",
    "        result[i][j] = X[i][j]*Y[i][j]\n",
    "        \n",
    "        \n",
    "        \n",
    "for a in result:\n",
    "    print(a)"
   ]
  },
  {
   "cell_type": "markdown",
   "id": "975d3437",
   "metadata": {},
   "source": [
    "#### 3. Write a Python Program to Transpose a Matrix?\n"
   ]
  },
  {
   "cell_type": "code",
   "execution_count": 3,
   "id": "95a7b7ce",
   "metadata": {},
   "outputs": [
    {
     "name": "stdout",
     "output_type": "stream",
     "text": [
      "[22, 43, 38]\n",
      "[17, 52, 85]\n"
     ]
    }
   ],
   "source": [
    "\n",
    "X = [[22,17],\n",
    "    [43 ,52],\n",
    "    [38 ,85]]\n",
    "\n",
    "result = [[0,0,0],\n",
    "         [0,0,0]]\n",
    "\n",
    "# iterate through rows\n",
    "for i in range(len(X)):\n",
    "   # iterate through columns\n",
    "   for j in range(len(X[0])):\n",
    "        result[j][i] = X[i][j]\n",
    "\n",
    "for r in result:\n",
    "    print(r)\n"
   ]
  },
  {
   "cell_type": "markdown",
   "id": "e73afd6f",
   "metadata": {},
   "source": [
    "#### 4. Write a Python Program to Sort Words in Alphabetic Order?\n"
   ]
  },
  {
   "cell_type": "code",
   "execution_count": 4,
   "id": "6268bb8f",
   "metadata": {},
   "outputs": [
    {
     "name": "stdout",
     "output_type": "stream",
     "text": [
      "The sorted words are:\n",
      "country\n",
      "hello\n",
      "is\n",
      "my\n",
      "this\n"
     ]
    }
   ],
   "source": [
    "my_str = \"Hello This is My Country\"\n",
    "\n",
    "words = [word.lower() for word in my_str.split()]\n",
    "\n",
    "words.sort()\n",
    "\n",
    "# display the sorted words\n",
    "\n",
    "print(\"The sorted words are:\")\n",
    "for word in words:\n",
    "    print(word)\n",
    "    "
   ]
  },
  {
   "cell_type": "code",
   "execution_count": 5,
   "id": "646c20cd",
   "metadata": {},
   "outputs": [
    {
     "data": {
      "text/plain": [
       "['country', 'hello', 'is', 'my', 'this']"
      ]
     },
     "execution_count": 5,
     "metadata": {},
     "output_type": "execute_result"
    }
   ],
   "source": [
    "my_str = \"Hello This is My Country\"\n",
    "\n",
    "words = [word.lower() for word in my_str.split()]\n",
    "words.sort()\n",
    "words"
   ]
  },
  {
   "cell_type": "markdown",
   "id": "d0e71e2f",
   "metadata": {},
   "source": [
    "#### 5. Write a Python Program to Remove Punctuation From a String? \n"
   ]
  },
  {
   "cell_type": "code",
   "execution_count": 6,
   "id": "84791c0e",
   "metadata": {},
   "outputs": [
    {
     "name": "stdout",
     "output_type": "stream",
     "text": [
      "Hello my firend  how are you\n"
     ]
    }
   ],
   "source": [
    "punctuations = '''!()-[]{};:'\"\\,<>./?@#$%^&*_~'''\n",
    "my_str = \"Hello!!!, my firend --- !!!how are you.\"\n",
    "\n",
    "no_punct = \"\"\n",
    "for char in my_str:\n",
    "    if char not in punctuations:\n",
    "        no_punct = no_punct + char\n",
    "\n",
    "print(no_punct)\n"
   ]
  }
 ],
 "metadata": {
  "kernelspec": {
   "display_name": "Python 3",
   "language": "python",
   "name": "python3"
  },
  "language_info": {
   "codemirror_mode": {
    "name": "ipython",
    "version": 3
   },
   "file_extension": ".py",
   "mimetype": "text/x-python",
   "name": "python",
   "nbconvert_exporter": "python",
   "pygments_lexer": "ipython3",
   "version": "3.8.8"
  }
 },
 "nbformat": 4,
 "nbformat_minor": 5
}
