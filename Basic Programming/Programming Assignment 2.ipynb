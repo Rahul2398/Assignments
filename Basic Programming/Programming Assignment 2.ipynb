{
 "cells": [
  {
   "cell_type": "code",
   "execution_count": 3,
   "id": "7772624d",
   "metadata": {},
   "outputs": [
    {
     "name": "stdout",
     "output_type": "stream",
     "text": [
      "Enter Km : 6\n",
      "Miles =  3.7199999999999998\n"
     ]
    }
   ],
   "source": [
    "#1\n",
    "Km = int(input(\"Enter Km : \"))\n",
    "miles = Km*.62\n",
    "print(\"Miles = \" , miles)"
   ]
  },
  {
   "cell_type": "code",
   "execution_count": 3,
   "id": "55712d20",
   "metadata": {},
   "outputs": [
    {
     "name": "stdout",
     "output_type": "stream",
     "text": [
      "Enter Celsius: 50\n",
      "Fahrenheit:  122.0\n"
     ]
    }
   ],
   "source": [
    "#2\n",
    "Celsius = int(input(\"Enter Celsius: \"))\n",
    "\n",
    "fahrenheit = (Celsius * 9/5) +32\n",
    "print(\"Fahrenheit: \",fahrenheit)\n"
   ]
  },
  {
   "cell_type": "code",
   "execution_count": 6,
   "id": "0ccba8a8",
   "metadata": {},
   "outputs": [
    {
     "name": "stdout",
     "output_type": "stream",
     "text": [
      "Enter year = 1998\n",
      "Enter month in number = 3\n",
      "     March 1998\n",
      "Mo Tu We Th Fr Sa Su\n",
      "                   1\n",
      " 2  3  4  5  6  7  8\n",
      " 9 10 11 12 13 14 15\n",
      "16 17 18 19 20 21 22\n",
      "23 24 25 26 27 28 29\n",
      "30 31\n",
      "\n"
     ]
    }
   ],
   "source": [
    "#3\n",
    "import calendar\n",
    "yy = int(input(\"Enter year = \"))\n",
    "mm = int(input(\"Enter month in number = \"))\n",
    "print(calendar.month(yy,mm))"
   ]
  },
  {
   "cell_type": "code",
   "execution_count": 1,
   "id": "39f17782",
   "metadata": {},
   "outputs": [
    {
     "name": "stdout",
     "output_type": "stream",
     "text": [
      "Enter a = 2\n",
      "Enter b = 4\n",
      "Enter c = 6\n",
      "(-1+1.4142135623730951j) , (-1-1.4142135623730951j)\n"
     ]
    }
   ],
   "source": [
    "#4 \n",
    "#Formula:\n",
    "# x=-b+-sqrt(b**2-4ac)/2*a\n",
    "import cmath\n",
    "a=int(input(\"Enter a = \"))\n",
    "b=int(input(\"Enter b = \"))\n",
    "c=int(input(\"Enter c = \"))\n",
    "d = (b**2)-(4*a*c)\n",
    "sol_one = (-b+cmath.sqrt(d))/(2*a)\n",
    "sol_two = (-b-cmath.sqrt(d))/(2*a)\n",
    "print(sol_one ,\",\", sol_two)"
   ]
  },
  {
   "cell_type": "code",
   "execution_count": 3,
   "id": "2adaa881",
   "metadata": {},
   "outputs": [
    {
     "name": "stdout",
     "output_type": "stream",
     "text": [
      "Enter value of x: 25\n",
      "Enter value of y: 45\n",
      "The value of x after swapping: 45\n",
      "The value of y after swapping: 25\n"
     ]
    }
   ],
   "source": [
    "#5\n",
    "x = input('Enter value of x: ')\n",
    "y = input('Enter value of y: ')\n",
    "\n",
    "\n",
    "Value = x\n",
    "x = y\n",
    "y = Value\n",
    "\n",
    "print('The value of x after swapping: {}'.format(x))\n",
    "print('The value of y after swapping: {}'.format(y))\n"
   ]
  },
  {
   "cell_type": "code",
   "execution_count": null,
   "id": "4839d47a",
   "metadata": {},
   "outputs": [],
   "source": []
  }
 ],
 "metadata": {
  "kernelspec": {
   "display_name": "Python 3",
   "language": "python",
   "name": "python3"
  },
  "language_info": {
   "codemirror_mode": {
    "name": "ipython",
    "version": 3
   },
   "file_extension": ".py",
   "mimetype": "text/x-python",
   "name": "python",
   "nbconvert_exporter": "python",
   "pygments_lexer": "ipython3",
   "version": "3.8.8"
  }
 },
 "nbformat": 4,
 "nbformat_minor": 5
}
