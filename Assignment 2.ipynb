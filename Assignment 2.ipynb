{
 "cells": [
  {
   "cell_type": "code",
   "execution_count": null,
   "id": "60d4ee87",
   "metadata": {},
   "outputs": [],
   "source": [
    "1. # The 2 data types are 'True' and 'False', 't and 'f' must be in capital. Python represents 'True' as '1' and 'False' as '0'."
   ]
  },
  {
   "cell_type": "code",
   "execution_count": null,
   "id": "3ae43f16",
   "metadata": {},
   "outputs": [],
   "source": [
    "2. # The three types of Boolyean coperations are 'and', 'or', 'not'."
   ]
  },
  {
   "cell_type": "code",
   "execution_count": null,
   "id": "20b647fa",
   "metadata": {},
   "outputs": [],
   "source": [
    "#Truth Table for 'or' operations:-\n",
    "\n",
    "A    B    A or B\n",
    "0     1     1\n",
    "0     0     0\n",
    "1     1     1\n",
    "1     0     1\n",
    "\n",
    "#Truth Table for 'and' operations:-\n",
    "\n",
    "A  B  A and B\n",
    "0  1     0\n",
    "0  0     0\n",
    "1  1     1\n",
    "1  0     0\n",
    "#Truth Table for 'not'\n",
    "B not B\n",
    "0   1"
   ]
  },
  {
   "cell_type": "markdown",
   "id": "f0e1d657",
   "metadata": {},
   "source": [
    " 4.\n"
   ]
  },
  {
   "cell_type": "code",
   "execution_count": 8,
   "id": "2980d5e8",
   "metadata": {},
   "outputs": [
    {
     "data": {
      "text/plain": [
       "False"
      ]
     },
     "execution_count": 8,
     "metadata": {},
     "output_type": "execute_result"
    }
   ],
   "source": [
    "(5 > 4) and (3 == 5)\n",
    "\n"
   ]
  },
  {
   "cell_type": "code",
   "execution_count": 9,
   "id": "2dbe03ee",
   "metadata": {},
   "outputs": [
    {
     "data": {
      "text/plain": [
       "False"
      ]
     },
     "execution_count": 9,
     "metadata": {},
     "output_type": "execute_result"
    }
   ],
   "source": [
    "not (5 > 4)\n",
    "\n"
   ]
  },
  {
   "cell_type": "code",
   "execution_count": 10,
   "id": "8489c7f1",
   "metadata": {},
   "outputs": [
    {
     "data": {
      "text/plain": [
       "True"
      ]
     },
     "execution_count": 10,
     "metadata": {},
     "output_type": "execute_result"
    }
   ],
   "source": [
    "(5 > 4) or (3 == 5)\n"
   ]
  },
  {
   "cell_type": "code",
   "execution_count": 11,
   "id": "da269623",
   "metadata": {},
   "outputs": [
    {
     "data": {
      "text/plain": [
       "False"
      ]
     },
     "execution_count": 11,
     "metadata": {},
     "output_type": "execute_result"
    }
   ],
   "source": [
    "not ((5 > 4) or (3 == 5))\n"
   ]
  },
  {
   "cell_type": "code",
   "execution_count": 12,
   "id": "e1914a3c",
   "metadata": {},
   "outputs": [
    {
     "data": {
      "text/plain": [
       "False"
      ]
     },
     "execution_count": 12,
     "metadata": {},
     "output_type": "execute_result"
    }
   ],
   "source": [
    "(True and True) and (True == False)"
   ]
  },
  {
   "cell_type": "code",
   "execution_count": 13,
   "id": "f20beb48",
   "metadata": {},
   "outputs": [
    {
     "data": {
      "text/plain": [
       "True"
      ]
     },
     "execution_count": 13,
     "metadata": {},
     "output_type": "execute_result"
    }
   ],
   "source": [
    "(not False) or (not True)"
   ]
  },
  {
   "cell_type": "code",
   "execution_count": null,
   "id": "31c91696",
   "metadata": {},
   "outputs": [],
   "source": [
    "#5.  The six comparison operations are as follows:\n",
    "\n",
    "#i)  == (the values of two operands are equal, then the condition becomes true) (a==b)\n",
    "\n",
    "#ii) != (If values of two operands are not equal, then condition becomes true.) (a!=b)\n",
    "\n",
    "#iii) > (If the value of left operand is greater than the value of right operand, then condition becomes true.) (a>b)\n",
    "\n",
    "#iv)  < (If the value of left operand is less than the value of right operand, then condition becomes true.) (a<b)\n",
    "\n",
    "#v)  >= (If the value of left operand is greater than or equal to the value of right operand, then condition becomes true.)(a>=b)\n",
    "\n",
    "#vi) <= (If the value of left operand is less than or equal to the value of right operand, then condition becomes true.)(a<=b)\n"
   ]
  },
  {
   "cell_type": "code",
   "execution_count": null,
   "id": "d0164216",
   "metadata": {},
   "outputs": [],
   "source": [
    "#6. The “=” is an assignment operator used to assign the value on the right to the variable on the left,while \"==\" operator checks whether the two given operands are equal or not. If so, it returns true. Otherwise it returns false.\n"
   ]
  },
  {
   "cell_type": "code",
   "execution_count": 4,
   "id": "1f684d07",
   "metadata": {},
   "outputs": [
    {
     "name": "stdout",
     "output_type": "stream",
     "text": [
      "10\n"
     ]
    }
   ],
   "source": [
    "#For '='opertions\n",
    "a = 10\n",
    "print(a)"
   ]
  },
  {
   "cell_type": "code",
   "execution_count": 5,
   "id": "383ddef0",
   "metadata": {},
   "outputs": [
    {
     "data": {
      "text/plain": [
       "True"
      ]
     },
     "execution_count": 5,
     "metadata": {},
     "output_type": "execute_result"
    }
   ],
   "source": [
    "#For'==' operations\n",
    "5==5 "
   ]
  },
  {
   "cell_type": "code",
   "execution_count": 10,
   "id": "e072de65",
   "metadata": {},
   "outputs": [
    {
     "name": "stdout",
     "output_type": "stream",
     "text": [
      "spam\n"
     ]
    }
   ],
   "source": [
    "7.# Three blocks in codes\n",
    "spam = 0\n",
    "if spam == 10:\n",
    "    print('eggs')\n",
    "\n",
    "    if spam > 5:\n",
    "        print('bacon')\n",
    "    else:\n",
    "        print('ham')\n",
    "    print('spam')\n",
    "print('spam')\n",
    "\n"
   ]
  },
  {
   "cell_type": "code",
   "execution_count": 34,
   "id": "2a016c11",
   "metadata": {},
   "outputs": [
    {
     "name": "stdout",
     "output_type": "stream",
     "text": [
      "Hello\n"
     ]
    }
   ],
   "source": [
    "8.\n",
    "spam = 1\n",
    "if spam == 1:\n",
    "    print('Hello')\n",
    "elif spam == 2:\n",
    "        print('Howdy')\n",
    "        \n",
    "else:\n",
    "    print(\"Greetings!\")\n"
   ]
  },
  {
   "cell_type": "code",
   "execution_count": null,
   "id": "0e220b1e",
   "metadata": {},
   "outputs": [],
   "source": [
    "9. # If I'm struck in endless program i will press \"Ctrl + C\""
   ]
  },
  {
   "cell_type": "code",
   "execution_count": null,
   "id": "515d66bc",
   "metadata": {},
   "outputs": [],
   "source": [
    "#10. The break statement terminates the loop containing it while in continue loop does not terminate but continues on with the next iteration.\n"
   ]
  },
  {
   "cell_type": "code",
   "execution_count": null,
   "id": "7f243f43",
   "metadata": {},
   "outputs": [],
   "source": [
    "#11. The difference is that in range(10) it has only starting point, in range(0,10) it has starting and stopping point and in range(0,10,1) along with starting and stopping point now it has step size . "
   ]
  },
  {
   "cell_type": "code",
   "execution_count": 2,
   "id": "8ce3f7fd",
   "metadata": {},
   "outputs": [
    {
     "name": "stdout",
     "output_type": "stream",
     "text": [
      "1\n",
      "2\n",
      "3\n",
      "4\n",
      "5\n",
      "6\n",
      "7\n",
      "8\n",
      "9\n",
      "10\n"
     ]
    }
   ],
   "source": [
    "12.\n",
    "k = range(1,11)\n",
    "for k in range(1,11):\n",
    "    print(k)"
   ]
  },
  {
   "cell_type": "code",
   "execution_count": 3,
   "id": "38d65e28",
   "metadata": {},
   "outputs": [
    {
     "name": "stdout",
     "output_type": "stream",
     "text": [
      "1\n",
      "2\n",
      "3\n",
      "4\n",
      "5\n",
      "6\n",
      "7\n",
      "8\n",
      "9\n",
      "10\n"
     ]
    }
   ],
   "source": [
    "12.\n",
    "k = 1\n",
    "while k<=10:\n",
    "    print(k)\n",
    "    k += 1"
   ]
  },
  {
   "cell_type": "code",
   "execution_count": null,
   "id": "fdb02065",
   "metadata": {},
   "outputs": [],
   "source": [
    "#13. This function can be called with spam.bacon()"
   ]
  }
 ],
 "metadata": {
  "kernelspec": {
   "display_name": "Python 3",
   "language": "python",
   "name": "python3"
  },
  "language_info": {
   "codemirror_mode": {
    "name": "ipython",
    "version": 3
   },
   "file_extension": ".py",
   "mimetype": "text/x-python",
   "name": "python",
   "nbconvert_exporter": "python",
   "pygments_lexer": "ipython3",
   "version": "3.8.8"
  }
 },
 "nbformat": 4,
 "nbformat_minor": 5
}
