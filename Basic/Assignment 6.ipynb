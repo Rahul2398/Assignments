{
 "cells": [
  {
   "cell_type": "markdown",
   "id": "31216e36",
   "metadata": {},
   "source": [
    "#### 1.What are escape characters, and how do you use them?\n",
    "\n",
    "**Ans** Escape characters are characters which are used when you want to enter any character in between the string which was otherwise impossible to enter.\n",
    "\n",
    "***`' = Single Quote`\n",
    "`\\ = Bacslash`\n",
    "`\\n = New line`\n",
    "`\\t = Tab`***"
   ]
  },
  {
   "cell_type": "markdown",
   "id": "ea06d036",
   "metadata": {},
   "source": [
    "#### 2. What do the escape characters n and t stand for?\n",
    "\n",
    "**Ans** ***`\\n = New line` \n",
    "         `\\t = Tab`***\n"
   ]
  },
  {
   "cell_type": "markdown",
   "id": "2db640ef",
   "metadata": {},
   "source": [
    "#### 3. What is the way to include backslash characters in a string?\n",
    "\n",
    "**Ans** The ***`\\`*** escape character will represent the backlash character in a stream.\n"
   ]
  },
  {
   "cell_type": "markdown",
   "id": "7bc15168",
   "metadata": {},
   "source": [
    "#### 4. The string \"Howl's Moving Castle\" is a correct value. Why isn't the single quote character in the word Howl's not escaped a problem?\n",
    " \n",
    "  "
   ]
  },
  {
   "cell_type": "markdown",
   "id": "10b27398",
   "metadata": {},
   "source": [
    "**Ans** Because of the useage of the double quotes it is correct value any if it was wrapped in single quote then we have to use."
   ]
  },
  {
   "cell_type": "code",
   "execution_count": 1,
   "id": "1f712d58",
   "metadata": {},
   "outputs": [
    {
     "data": {
      "text/plain": [
       "\"Howl's Moving Castle\""
      ]
     },
     "execution_count": 1,
     "metadata": {},
     "output_type": "execute_result"
    }
   ],
   "source": [
    "'Howl\\'s Moving Castle'"
   ]
  },
  {
   "cell_type": "markdown",
   "id": "ac6ac7ec",
   "metadata": {},
   "source": [
    "#### 5. How do you write a string of newlines if you don't want to use the n character?\n",
    " \n",
    "**Ans** By using Multiline string "
   ]
  },
  {
   "cell_type": "code",
   "execution_count": 2,
   "id": "55b8e425",
   "metadata": {},
   "outputs": [
    {
     "name": "stdout",
     "output_type": "stream",
     "text": [
      "Have a\n",
      "nice day\n"
     ]
    }
   ],
   "source": [
    "a = '''Have a\n",
    "nice day'''\n",
    "print(a)"
   ]
  },
  {
   "cell_type": "markdown",
   "id": "cc5dfd34",
   "metadata": {},
   "source": [
    "#### 6. What are the values of the given expressions?\n",
    "**Ans**\n",
    "1. 'Hello, world!'[1] = 'e'            \n",
    "2. 'Hello, world!'[0:5] = 'Hello'\n",
    "3. 'Hello, world!'[:5]  = 'Hello'\n",
    "4. 'Hello, world!'[3:] = 'lo, world!'\n"
   ]
  },
  {
   "cell_type": "markdown",
   "id": "4a3232c8",
   "metadata": {},
   "source": [
    "#### 7. What are the values of the following expressions?\n",
    "**Ans**\n",
    "1. 'Hello'.upper() =  'HELLO'\n",
    "2. 'Hello'.upper().isupper() = 'True'\n",
    "3. 'Hello'.upper().lower() = 'hello'\n"
   ]
  },
  {
   "cell_type": "markdown",
   "id": "3b4ba369",
   "metadata": {},
   "source": [
    "#### 8. What are the values of the following expressions?\n",
    "**`'Remember, remember, the fifth of July.'.split()\n",
    "'-'.join('There can only one.'.split())`**\n"
   ]
  },
  {
   "cell_type": "code",
   "execution_count": 1,
   "id": "74b8cac2",
   "metadata": {},
   "outputs": [
    {
     "data": {
      "text/plain": [
       "['Remember,', 'remember,', 'the', 'fifth', 'of', 'July.']"
      ]
     },
     "execution_count": 1,
     "metadata": {},
     "output_type": "execute_result"
    }
   ],
   "source": [
    "'Remember, remember, the fifth of July.'.split()"
   ]
  },
  {
   "cell_type": "code",
   "execution_count": 2,
   "id": "a38c503e",
   "metadata": {},
   "outputs": [
    {
     "data": {
      "text/plain": [
       "'There-can-only-one.'"
      ]
     },
     "execution_count": 2,
     "metadata": {},
     "output_type": "execute_result"
    }
   ],
   "source": [
    "'-'.join('There can only one.'.split())"
   ]
  },
  {
   "cell_type": "markdown",
   "id": "47f3c330",
   "metadata": {},
   "source": [
    "#### 9. What are the methods for right-justifying, left-justifying, and centering a string?\n",
    "**Ans** `The rjust(), ljust(), center() string methods, respectively.`"
   ]
  },
  {
   "cell_type": "markdown",
   "id": "7e699176",
   "metadata": {},
   "source": [
    "#### 10. What is the best way to remove whitespace characters from the start or end?\n",
    "**Ans** `The lstrip() and rstrip() methods remove whitespace chracters from the left right ends of a string respectively.`"
   ]
  },
  {
   "cell_type": "code",
   "execution_count": null,
   "id": "b77ad32b",
   "metadata": {},
   "outputs": [],
   "source": []
  }
 ],
 "metadata": {
  "kernelspec": {
   "display_name": "Python 3 (ipykernel)",
   "language": "python",
   "name": "python3"
  },
  "language_info": {
   "codemirror_mode": {
    "name": "ipython",
    "version": 3
   },
   "file_extension": ".py",
   "mimetype": "text/x-python",
   "name": "python",
   "nbconvert_exporter": "python",
   "pygments_lexer": "ipython3",
   "version": "3.9.7"
  }
 },
 "nbformat": 4,
 "nbformat_minor": 5
}
