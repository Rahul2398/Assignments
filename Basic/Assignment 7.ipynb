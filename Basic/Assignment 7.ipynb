{
 "cells": [
  {
   "cell_type": "markdown",
   "id": "581ef9ba",
   "metadata": {},
   "source": [
    "#### 1. What is the name of the feature responsible for generating Regex objects?\n",
    "**Soln:** `re.compile()`"
   ]
  },
  {
   "cell_type": "code",
   "execution_count": 3,
   "id": "6be3b639",
   "metadata": {},
   "outputs": [
    {
     "name": "stdout",
     "output_type": "stream",
     "text": [
      "re.compile('Hello Mark')\n"
     ]
    }
   ],
   "source": [
    "import re\n",
    "a = re.compile(\"Hello Mark\")\n",
    "type(a)\n",
    "print(a)"
   ]
  },
  {
   "cell_type": "markdown",
   "id": "0ca0fb29",
   "metadata": {},
   "source": [
    "#### 2. Why do raw strings often appear in Regex objects?\n",
    "**Soln:** Raw strings appears in Regex objects so that it looks meaningful and confusion free, as Regular expressions use the backslash character `('\\')`to indicate 'Metacharacters & 'Special Sequences' so if 'Raw string notation' is not used it will collide with Python’s usage of the same character for the same purpose. Hence, Raw strings are used `(r\"\\n\")` so that backslashes do not have to be escaped."
   ]
  },
  {
   "cell_type": "markdown",
   "id": "6f69aff2",
   "metadata": {
    "scrolled": true
   },
   "source": [
    "#### 3. What is the return value of the search() method?"
   ]
  },
  {
   "cell_type": "markdown",
   "id": "cd381311",
   "metadata": {},
   "source": [
    "**Soln:** Return value of search method() is either Match object if pattern match to a string, or none if it didn't match."
   ]
  },
  {
   "cell_type": "code",
   "execution_count": 7,
   "id": "91e22f47",
   "metadata": {},
   "outputs": [
    {
     "name": "stdout",
     "output_type": "stream",
     "text": [
      "Output: <re.Match object; span=(46, 53), match='genuine'>\n",
      "Output: None\n"
     ]
    }
   ],
   "source": [
    "import re\n",
    "match = re.search('genuine','The true secret of happiness lies in taking a genuine interest in all the details of daily life')\n",
    "print('Output:',match)\n",
    "match = re.search('day','The true secret of happiness lies in taking a genuine interest in all the details of daily life')\n",
    "print('Output:',match)\n",
    "\n"
   ]
  },
  {
   "cell_type": "markdown",
   "id": "e29dc55b",
   "metadata": {},
   "source": [
    "#### 4. From a Match item, how do you get the actual strings that match the pattern?"
   ]
  },
  {
   "cell_type": "markdown",
   "id": "d5f1126d",
   "metadata": {},
   "source": [
    "**Soln:** By using `group()` method we get actual string that match the pattern."
   ]
  },
  {
   "cell_type": "code",
   "execution_count": 8,
   "id": "96b9eac6",
   "metadata": {},
   "outputs": [
    {
     "name": "stdout",
     "output_type": "stream",
     "text": [
      "Output: genuine\n"
     ]
    }
   ],
   "source": [
    "import re\n",
    "match = re.search('genuine','The true secret of happiness lies in taking a genuine interest in all the details of daily life')\n",
    "print('Output:',match.group())"
   ]
  },
  {
   "cell_type": "markdown",
   "id": "07df5606",
   "metadata": {},
   "source": [
    "#### 5. In the regex which created from the r'(\\d\\d\\d)-(\\d\\d\\d-\\d\\d\\d\\d)', what does group zero cover? Group 2? Group 1?\n",
    "**Soln:** `Group(0) = Covers entire matched pattern`,\n",
    "``Group(1) = (\\d\\d\\d)``,\n",
    "``Group(2) = (\\d\\d\\d-\\d\\d\\d\\d)``"
   ]
  },
  {
   "cell_type": "code",
   "execution_count": 11,
   "id": "8638b374",
   "metadata": {},
   "outputs": [
    {
     "name": "stdout",
     "output_type": "stream",
     "text": [
      "('543', '876-1694')\n",
      "543-876-1694\n",
      "543\n",
      "876-1694\n"
     ]
    }
   ],
   "source": [
    "import re\n",
    "PhoneNo = re.compile(r'(\\d\\d\\d)-(\\d\\d\\d-\\d\\d\\d\\d)')\n",
    "Search = PhoneNo.search('My number is 543-876-1694.')\n",
    "print(Search.groups()) # Prints all groups in a tuple format\n",
    "print(Search.group()) \n",
    "print(Search.group(1)) \n",
    "print(Search.group(2)) "
   ]
  },
  {
   "cell_type": "markdown",
   "id": "69cbdc0b",
   "metadata": {},
   "source": [
    "#### 6. In standard expression syntax, parentheses and intervals have distinct meanings. How can you tell a regex that you want it to fit real parentheses and periods?"
   ]
  },
  {
   "cell_type": "markdown",
   "id": "ce4b0e97",
   "metadata": {},
   "source": [
    "**Soln:** Using **`\\.`** **`\\(`** and **`\\)`** escape characters in the raw string passed to re.compile() will match actual parenthesis characters"
   ]
  },
  {
   "cell_type": "code",
   "execution_count": 12,
   "id": "d6796490",
   "metadata": {},
   "outputs": [
    {
     "name": "stdout",
     "output_type": "stream",
     "text": [
      "(415) 555-4242\n"
     ]
    }
   ],
   "source": [
    "import re\n",
    "PhoneNo = re.compile(r'(\\(\\d\\d\\d\\)) (\\d\\d\\d-\\d\\d\\d\\d)')\n",
    "mo = PhoneNo.search('My phone number is (418) 444-7272.')\n",
    "print(mo.group())"
   ]
  },
  {
   "cell_type": "markdown",
   "id": "e7a4ceeb",
   "metadata": {},
   "source": [
    "#### 7.The findall() method returns a string list or a list of string tuples. What causes it to return one of the two options?"
   ]
  },
  {
   "cell_type": "markdown",
   "id": "146848b6",
   "metadata": {},
   "source": [
    "**Soln:** If regex pattern has a group then it will return a tuple, and if it didn't, it will return lsit of string."
   ]
  },
  {
   "cell_type": "code",
   "execution_count": 2,
   "id": "f82611b0",
   "metadata": {},
   "outputs": [
    {
     "name": "stdout",
     "output_type": "stream",
     "text": [
      "[('(418)', '444-7272')]\n",
      "['418-444-7272']\n"
     ]
    }
   ],
   "source": [
    "import re\n",
    "Num = re.compile(r'(\\(\\d\\d\\d\\)) (\\d\\d\\d-\\d\\d\\d\\d)')\n",
    "Num1 = Num.findall('My phone number is (418) 444-7272.')\n",
    "print(Num1)\n",
    "\n",
    "\n",
    "import re\n",
    "Num = re.compile(r'\\d{3}-\\d{3}-\\d{4}')\n",
    "Num1 = Num.findall('My number is 418-444-7272.')\n",
    "print(Num1) # Prints all groups in a tuple format"
   ]
  },
  {
   "cell_type": "markdown",
   "id": "1a4f1cba",
   "metadata": {},
   "source": [
    "#### 8. In standard expressions, what does the | character mean?"
   ]
  },
  {
   "cell_type": "markdown",
   "id": "aaa8c74a",
   "metadata": {},
   "source": [
    "**Soln:** In Standard Expressions **`|`** means **`or`** operator."
   ]
  },
  {
   "cell_type": "markdown",
   "id": "f3618577",
   "metadata": {},
   "source": [
    "#### 9. In regular expressions, what does the `?` character stand for?"
   ]
  },
  {
   "cell_type": "markdown",
   "id": "b0994a2e",
   "metadata": {},
   "source": [
    "**Soln:** In regular Expressions, **`?`** characters represents zero or one match of the preceeding group."
   ]
  },
  {
   "cell_type": "code",
   "execution_count": 21,
   "id": "6bfe2ef5",
   "metadata": {},
   "outputs": [
    {
     "name": "stdout",
     "output_type": "stream",
     "text": [
      "<re.Match object; span=(6, 13), match='Batsman'>\n",
      "<re.Match object; span=(6, 15), match='Batswoman'>\n"
     ]
    }
   ],
   "source": [
    "import re\n",
    "Match = re.search(\"Bats(wo)?man\",\"No. 1 Batsman in the World\")\n",
    "print(Match)\n",
    "Match_ = re.search(\"Bats(wo)?man\",\"No. 1 Batswoman in the World\")\n",
    "print(Match_)"
   ]
  },
  {
   "cell_type": "markdown",
   "id": "258bc49c",
   "metadata": {},
   "source": [
    "#### 10.In regular expressions, what is the difference between the + and * characters?"
   ]
  },
  {
   "cell_type": "markdown",
   "id": "45d152f2",
   "metadata": {},
   "source": [
    "**Soln:** In Regular Expressions, **`*`** Represents Zero or more occurances of the preceeding group, whereas **`+`** represents one or more occurances of the preceeding group."
   ]
  },
  {
   "cell_type": "code",
   "execution_count": 23,
   "id": "32f916ff",
   "metadata": {},
   "outputs": [
    {
     "name": "stdout",
     "output_type": "stream",
     "text": [
      "<re.Match object; span=(6, 13), match='Batsman'>\n",
      "None\n"
     ]
    }
   ],
   "source": [
    "import re\n",
    "Match = re.search(\"Bats(wo)*man\",\"No. 1 Batsman in the World\")\n",
    "print(Match)\n",
    "Match_ = re.search(\"Bats(wo)+man\",\"No. 1 Batsman in the World\")\n",
    "print(Match_)"
   ]
  },
  {
   "cell_type": "markdown",
   "id": "e478f658",
   "metadata": {},
   "source": [
    "#### 11. What is the difference between {4} and {4,5} in regular expression?\n",
    "**Soln:** `{4}` means that its preceeding group should repeat 4 times. where as `{4,5}` means that its preceeding group should repeat mininum 4 times and maximum 5 times."
   ]
  },
  {
   "cell_type": "markdown",
   "id": "7727a92f",
   "metadata": {},
   "source": [
    "#### 12. What do you mean by the \\d, \\w, and \\s shorthand character classes signify in regular expressions?\n",
    "**Soln:** `\\d`, `\\w` and `\\s` are special sequences in regular expresssions in python:\n",
    "1. **`\\d`** – Matches digit character equivalent to [0-9]\n",
    "2. **`\\w`** – Matches a word character equivalent to [a-zA-Z0-9_]\n",
    "3. **`\\s`** – Matches whitespace character (space, tab, newline, etc.)"
   ]
  },
  {
   "cell_type": "markdown",
   "id": "125f079e",
   "metadata": {},
   "source": [
    "#### 13. What do you mean by \\D, \\W, and \\S shorthand character classes signify in regular expressions?\n",
    "**Soln:** `\\D`, `\\W` and `\\S` are special sequences in regular expresssions in python:\n",
    "1. **`\\D`** – Matches any non-digit character, this is equivalent to the set class [^0-9]\n",
    "2. **`\\W`** – Matches any non-alphanumeric character equivalent to [^a-zA-Z0-9_]\n",
    "3. **`\\S`** – Matches any non-whitespace character"
   ]
  },
  {
   "cell_type": "markdown",
   "id": "a098b56b",
   "metadata": {},
   "source": [
    "#### 14. What is the difference between `.*?` and `.*`?\n",
    "**Soln:** **`.*`** is a Greedy mode, which returns the longest string that meets the condition. Whereas **`.*?`** is a non greedy mode which returns the shortest string that meets the condition."
   ]
  },
  {
   "cell_type": "markdown",
   "id": "3dd16851",
   "metadata": {},
   "source": [
    "#### 15. What is the syntax for matching both numbers and lowercase letters with a character class?\n",
    "**Soln:** The Synatax is Either **`[a-z0-9]`** or **`[0-9a-z]`**"
   ]
  },
  {
   "cell_type": "markdown",
   "id": "2e3d076c",
   "metadata": {},
   "source": [
    "#### 16. What is the procedure for making a normal expression in regax case insensitive?\n",
    "**Soln:** We can pass **`re.IGNORECASE`** as a flag to make a noraml expression case insensitive"
   ]
  },
  {
   "cell_type": "markdown",
   "id": "fce454d9",
   "metadata": {},
   "source": [
    "#### 17. What does the . character normally match? What does it match if re.DOTALL is passed as 2nd argument in re.compile()?\n",
    "**Soln:** \n",
    "Dot **`.`** character matches everything in input except newline character **`.`**. By passing **`re.DOTALL`** as a flag to **`re.compile()`**, you can make the dot character match all characters, including the newline character."
   ]
  },
  {
   "cell_type": "markdown",
   "id": "eebd16cf",
   "metadata": {},
   "source": [
    "#### 18. If numReg = re.compile(r'\\d+'), what will numRegex.sub('X', '11 drummers, 10 pipers, five rings, 4 hen') return?\n",
    "**Soln:** The Ouput will be **`'X drummers, X pipers, five rings, X hen'`**"
   ]
  },
  {
   "cell_type": "markdown",
   "id": "1d0e9903",
   "metadata": {},
   "source": [
    "#### 19. What does passing re.VERBOSE as the 2nd argument to re.compile() allow to do?\n",
    "**Soln:** **`re.VERBOSE`** will allow to add whitespace and comments to string passed to **`re.compile()`**."
   ]
  },
  {
   "cell_type": "code",
   "execution_count": 9,
   "id": "e6ccf7c1",
   "metadata": {},
   "outputs": [],
   "source": [
    "# Without Using VERBOSE\n",
    "regex_email = re.compile(r'^([a-z0-9_\\.-]+)@([0-9a-z\\.-]+)\\.([a-z\\.]{2, 6})$', re.IGNORECASE)\n",
    " \n",
    "# Using VERBOSE\n",
    "regex_email = re.compile(r\"\"\"\n",
    "                            ^([a-z0-9_\\.-]+)              # local Part like username\n",
    "                            @                             # single @ sign \n",
    "                            ([0-9a-z\\.-]+)                # Domain name like google\n",
    "                            \\.                            # single Dot .\n",
    "                            ([a-z]{2,6})$                 # Top level Domain  like com/in/org\n",
    "                         \"\"\",re.VERBOSE | re.IGNORECASE)   "
   ]
  },
  {
   "cell_type": "markdown",
   "id": "be043c66",
   "metadata": {},
   "source": [
    "#### 20. How would you write a regex that match a number with comma for every three digits? It must match the given following:\n",
    "**Soln:** `'42','1,234', '6,368,745'`but not the following: `'12,34,567'` (which has only two digits between the commas) `'1234'` (which lacks commas)"
   ]
  },
  {
   "cell_type": "code",
   "execution_count": 11,
   "id": "2fb696fa",
   "metadata": {},
   "outputs": [
    {
     "name": "stdout",
     "output_type": "stream",
     "text": [
      "Output: 42 -> <re.Match object; span=(0, 2), match='42'>\n",
      "Output: 1,234 -> <re.Match object; span=(0, 5), match='1,234'>\n",
      "Output: 6,368,745 -> <re.Match object; span=(0, 9), match='6,368,745'>\n",
      "Output: 12,34,567 -> None\n",
      "Output: 1234 -> None\n"
     ]
    }
   ],
   "source": [
    "import re\n",
    "pattern = r'^\\d{1,3}(,\\d{3})*$'\n",
    "pagex = re.compile(pattern)\n",
    "for x in ['42','1,234', '6,368,745','12,34,567','1234']:\n",
    "    print('Output:',x, '->', pagex.search(x))"
   ]
  },
  {
   "cell_type": "markdown",
   "id": "0d0a86ca",
   "metadata": {},
   "source": [
    "#### 21. How would you write a regex that matches the full name of someone whose last name is Watanabe? You can assume that the first name that comes before it will always be one word that begins with a capital letter. The regex must match the following:\n",
    "`'Haruto Watanabe'`  \n",
    "`'Alice Watanabe'`  \n",
    "`'RoboCop Watanabe'`  \n",
    "\n",
    "but not the following:\n",
    "\n",
    "`'haruto Watanabe'` (where the first name is not capitalized)  \n",
    "`'Mr. Watanabe'` (where the preceding word has a nonletter character)  \n",
    "`'Watanabe'` (which has no first name)  \n",
    "`'Haruto watanabe'` (where Watanabe is not capitalized)  \n",
    "\n",
    "**Soln:** **`pattern = r'[A-Z]{1}[a-z]*\\sWatanabe'`**"
   ]
  },
  {
   "cell_type": "code",
   "execution_count": 26,
   "id": "3e1b2f92",
   "metadata": {},
   "outputs": [
    {
     "name": "stdout",
     "output_type": "stream",
     "text": [
      "Output:  Haruto Watanabe -> <re.Match object; span=(0, 15), match='Haruto Watanabe'>\n",
      "Output:  Alice Watanabe -> <re.Match object; span=(0, 14), match='Alice Watanabe'>\n",
      "Output:  RoboCop Watanabe -> <re.Match object; span=(4, 16), match='Cop Watanabe'>\n",
      "Output:  haruto Watanabe -> None\n",
      "Output:  Mr. Watanabe -> None\n",
      "Output:  Watanabe -> None\n",
      "Output:  Haruto watanabe -> None\n"
     ]
    }
   ],
   "source": [
    "import re\n",
    "pattern = r'[A-Z]{1}[a-z]*\\sWatanabe'\n",
    "namex = re.compile(pattern)\n",
    "for name in ['Haruto Watanabe','Alice Watanabe','RoboCop Watanabe','haruto Watanabe','Mr. Watanabe','Watanabe','Haruto watanabe']:\n",
    "    print('Output: ',name,'->',namex.search(name))"
   ]
  },
  {
   "cell_type": "markdown",
   "id": "9aef4d8e",
   "metadata": {},
   "source": [
    "#### 22. How would you write a regex that matches a sentence where the first word is either Alice, Bob,or Carol; the second word is either eats, pets, or throws; the third word is apples, cats, or baseballs; and the sentence ends with a period? This regex should be case-insensitive. It must match the following:\n",
    "`'Alice eats apples.'`  \n",
    "`'Bob pets cats.'`  \n",
    "`'Carol throws baseballs.'`  \n",
    "`'Alice throws Apples.'`  \n",
    "`'BOB EATS CATS.'`  \n",
    "\n",
    "but not the following:  \n",
    "\n",
    "`'RoboCop eats apples.'`  \n",
    "`'ALICE THROWS FOOTBALLS.'`   \n",
    "`'Carol eats 7 cats.'`  \n",
    "\n",
    "**Soln:** pattern = **`r'(Alice|Bob|Carol)\\s(eats|pets|throws)\\s(apples|cats|baseballs)\\.'`**"
   ]
  },
  {
   "cell_type": "code",
   "execution_count": 2,
   "id": "159f9ce0",
   "metadata": {},
   "outputs": [
    {
     "name": "stdout",
     "output_type": "stream",
     "text": [
      "Output:  Alice eats apples. = <re.Match object; span=(0, 18), match='Alice eats apples.'>\n",
      "Output:  Bob pets cats. = <re.Match object; span=(0, 14), match='Bob pets cats.'>\n",
      "Output:  Carol throws baseballs. = <re.Match object; span=(0, 23), match='Carol throws baseballs.'>\n",
      "Output:  Alice throws Apples. = <re.Match object; span=(0, 20), match='Alice throws Apples.'>\n",
      "Output:  BOB EATS CATS. = <re.Match object; span=(0, 14), match='BOB EATS CATS.'>\n",
      "Output:  RoboCop eats apples. = None\n",
      "Output:  ALICE THROWS FOOTBALLS. = None\n",
      "Output:  Carol eats 7 cats. = None\n"
     ]
    }
   ],
   "source": [
    "import re\n",
    "pattern = r'(Alice|Bob|Carol)\\s(eats|pets|throws)\\s(apples|cats|baseballs)\\.'\n",
    "Result = re.compile(pattern,re.IGNORECASE)\n",
    "for ele in ['Alice eats apples.','Bob pets cats.','Carol throws baseballs.','Alice throws Apples.','BOB EATS CATS.','RoboCop eats apples.'\n",
    ",'ALICE THROWS FOOTBALLS.','Carol eats 7 cats.']:\n",
    "    print('Output: ',ele,'=',Result.search(ele))"
   ]
  },
  {
   "cell_type": "code",
   "execution_count": null,
   "id": "88126338",
   "metadata": {},
   "outputs": [],
   "source": []
  }
 ],
 "metadata": {
  "direction": "ltr",
  "kernelspec": {
   "display_name": "Python 3 (ipykernel)",
   "language": "python",
   "name": "python3"
  },
  "language_info": {
   "codemirror_mode": {
    "name": "ipython",
    "version": 3
   },
   "file_extension": ".py",
   "mimetype": "text/x-python",
   "name": "python",
   "nbconvert_exporter": "python",
   "pygments_lexer": "ipython3",
   "version": "3.9.7"
  }
 },
 "nbformat": 4,
 "nbformat_minor": 5
}
