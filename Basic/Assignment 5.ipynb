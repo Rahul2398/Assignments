{
 "cells": [
  {
   "cell_type": "markdown",
   "id": "ba308dd2",
   "metadata": {},
   "source": [
    "#### 1. What does an empty dictionary's code look like?\n",
    "\n",
    "**`d = {}`**"
   ]
  },
  {
   "cell_type": "markdown",
   "id": "8543ea32",
   "metadata": {},
   "source": [
    "#### 2. What is the value of a dictionary value with the key 'foo' and the value 42?\n",
    "\n"
   ]
  },
  {
   "cell_type": "code",
   "execution_count": 3,
   "id": "e6025b1c",
   "metadata": {},
   "outputs": [
    {
     "data": {
      "text/plain": [
       "42"
      ]
     },
     "execution_count": 3,
     "metadata": {},
     "output_type": "execute_result"
    }
   ],
   "source": [
    "A = {'foo':42}\n",
    "A['foo']"
   ]
  },
  {
   "cell_type": "markdown",
   "id": "ffe7fdb8",
   "metadata": {},
   "source": [
    "#### 3. What is the most significant distinction between a dictionary and a list?"
   ]
  },
  {
   "cell_type": "markdown",
   "id": "9e8bc95d",
   "metadata": {},
   "source": [
    "`Dictionary represented by` **`{}`** `where as lists are represented by` **`[]`**\n",
    "`The items stored in a dictionary are Unordered, whereas the items in a list are ordered`"
   ]
  },
  {
   "cell_type": "markdown",
   "id": "13afb36d",
   "metadata": {},
   "source": [
    "#### 4.What happens if you try to access spam['foo'] if spam is {'bar': 100}?\n"
   ]
  },
  {
   "cell_type": "code",
   "execution_count": 4,
   "id": "3cce5eeb",
   "metadata": {},
   "outputs": [
    {
     "ename": "KeyError",
     "evalue": "'foo'",
     "output_type": "error",
     "traceback": [
      "\u001b[1;31m---------------------------------------------------------------------------\u001b[0m",
      "\u001b[1;31mKeyError\u001b[0m                                  Traceback (most recent call last)",
      "\u001b[1;32m~\\AppData\\Local\\Temp/ipykernel_2952/4026577702.py\u001b[0m in \u001b[0;36m<module>\u001b[1;34m\u001b[0m\n\u001b[0;32m      1\u001b[0m \u001b[0mspam\u001b[0m \u001b[1;33m=\u001b[0m \u001b[1;33m{\u001b[0m\u001b[1;34m'bar'\u001b[0m\u001b[1;33m:\u001b[0m\u001b[1;36m100\u001b[0m\u001b[1;33m}\u001b[0m\u001b[1;33m\u001b[0m\u001b[1;33m\u001b[0m\u001b[0m\n\u001b[1;32m----> 2\u001b[1;33m \u001b[0mspam\u001b[0m\u001b[1;33m[\u001b[0m\u001b[1;34m'foo'\u001b[0m\u001b[1;33m]\u001b[0m\u001b[1;33m\u001b[0m\u001b[1;33m\u001b[0m\u001b[0m\n\u001b[0m",
      "\u001b[1;31mKeyError\u001b[0m: 'foo'"
     ]
    }
   ],
   "source": [
    "spam = {'bar':100}\n",
    "spam['foo']"
   ]
  },
  {
   "cell_type": "markdown",
   "id": "50520ee5",
   "metadata": {},
   "source": [
    "#### 5. If a dictionary is stored in spam, what is the difference between the expressions 'cat' in spam and 'cat' in spam.keys()?\n",
    "`Actually thier is no difference in both cases it refers to key.`\n"
   ]
  },
  {
   "cell_type": "markdown",
   "id": "79ff3c3b",
   "metadata": {},
   "source": [
    "#### 6. If a dictionary is stored in spam, what is the difference between the expressions 'cat' in spam and 'cat' in spam.values()?\n",
    "`In 1st case it checks wether there is a 'cat' key in the dictionary, while 'cat' in spam.values() checks whether it has\n",
    " 'cat' as value of any keys in spam.` "
   ]
  },
  {
   "cell_type": "markdown",
   "id": "b76101e5",
   "metadata": {},
   "source": [
    "#### 7. What is a shortcut for the following code? \n",
    "#### if 'color' not in spam:\n",
    "#### spam['color'] = 'black'\n",
    "`spam.update({'color','black'})`"
   ]
  },
  {
   "cell_type": "markdown",
   "id": "370eaf28",
   "metadata": {},
   "source": [
    "#### 8. How do you \"pretty print\" dictionary values using which module and function?\n",
    "`pprint.pprint()`"
   ]
  },
  {
   "cell_type": "code",
   "execution_count": null,
   "id": "40ad8c73",
   "metadata": {},
   "outputs": [],
   "source": []
  }
 ],
 "metadata": {
  "kernelspec": {
   "display_name": "Python 3 (ipykernel)",
   "language": "python",
   "name": "python3"
  },
  "language_info": {
   "codemirror_mode": {
    "name": "ipython",
    "version": 3
   },
   "file_extension": ".py",
   "mimetype": "text/x-python",
   "name": "python",
   "nbconvert_exporter": "python",
   "pygments_lexer": "ipython3",
   "version": "3.9.7"
  }
 },
 "nbformat": 4,
 "nbformat_minor": 5
}
