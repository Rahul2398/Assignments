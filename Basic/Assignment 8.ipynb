{
 "cells": [
  {
   "cell_type": "markdown",
   "id": "bdda0255",
   "metadata": {},
   "source": [
    "#### 1. Is the Python Standard Library included with PyInputPlus?\n",
    "**Ans:** No, **`PyInputPlus`** is not a part of Python Standard Library, it needs to be installed  using **`!pip install PyInputPlus`**"
   ]
  },
  {
   "cell_type": "markdown",
   "id": "6e4f9876",
   "metadata": {},
   "source": [
    "#### 2. Why is PyInputPlus commonly imported with import pyinputplus as pypi?\n",
    "**Ans:** You can import the module with **`import pyinputplus as pyip`** so that you can enter a shorter name when calling the module's functions."
   ]
  },
  {
   "cell_type": "markdown",
   "id": "b80a1e65",
   "metadata": {},
   "source": [
    "#### 3. How do you distinguish between inputInt() and inputFloat()?\n",
    "**Ans:** **`inputInt()`** function accepts an integer value, it takes additional parameters **`min`**, **`max`**, **`greaterThan`** and **`lessThan`**. And it always returns an int.\n",
    "\n",
    "Whereas **`inputFloat()`** function accepts a floating-point numeric value and it takes additional **`min`**, **`max`**, **`greaterThan`** and **`lessThan`** parameters. and always returns a float."
   ]
  },
  {
   "cell_type": "markdown",
   "id": "26a1274b",
   "metadata": {},
   "source": [
    "#### 4. Using PyInputPlus, how do you ensure that the user enters a whole number between 0 and 99?\n",
    "**Ans:** **`PyInputPlus`** module provides a function called as **`inputInt()`** which only returns integer values. inorder to restrict the input between 0 and 99, in order to restruct user to enter a whole number btw 0 and 99 use parameters like **`min`** & **`max`** .\n",
    "\n",
    "`import pyinputplus as pyip`  \n",
    "`wholenumber = pyip.inputInt(prompt='Enter a number: ', min=0, max=100)`   \n",
    "`print(wholenumber)`  "
   ]
  },
  {
   "cell_type": "markdown",
   "id": "8738d1b0",
   "metadata": {},
   "source": [
    "#### 5. What is transferred to the keyword arguments allowRegexes and blockRegexes?\n",
    "**Ans:** we can use **`allowRegexes`** and **`blockRegexes`** keyword arguments to take list of regular expression strings to determine\n",
    "what the pyinputplus function will reject or accept valid input."
   ]
  },
  {
   "cell_type": "markdown",
   "id": "b0dc876d",
   "metadata": {},
   "source": [
    "#### 6. If a blank input is entered three times, what does inputStr(limit=3) do?\n",
    "**Ans:** The statement **`inputStr(limit=3)`** will throw two exceptions **`ValidationException`** and **`RetryLimitException`**. The first exception is thrown because blank values are not allowed by inputStr() function by default. If we want to consider blank values as valid input, we have to set **`blank=True`**.\n",
    "\n",
    "The second exception is occured because we have reached the max limit we have specified by using **`limit`** parameter. inorder to avoid this exception we can use **`default`** parameter to return a default value when max limit is reached."
   ]
  },
  {
   "cell_type": "markdown",
   "id": "03383148",
   "metadata": {},
   "source": [
    "#### 7. If blank input is entered three times, what does inputStr(limit=3, default='hello') do?\n",
    "**Ans:** Since the default parameter is set to **`hello`**. after blank input is entered three times instead of raising **`RetryLimitException`** exception. the function will return **`hello`** as response to the calling function"
   ]
  },
  {
   "cell_type": "code",
   "execution_count": null,
   "id": "73fc9563",
   "metadata": {},
   "outputs": [],
   "source": []
  }
 ],
 "metadata": {
  "kernelspec": {
   "display_name": "Python 3 (ipykernel)",
   "language": "python",
   "name": "python3"
  },
  "language_info": {
   "codemirror_mode": {
    "name": "ipython",
    "version": 3
   },
   "file_extension": ".py",
   "mimetype": "text/x-python",
   "name": "python",
   "nbconvert_exporter": "python",
   "pygments_lexer": "ipython3",
   "version": "3.9.7"
  }
 },
 "nbformat": 4,
 "nbformat_minor": 5
}
