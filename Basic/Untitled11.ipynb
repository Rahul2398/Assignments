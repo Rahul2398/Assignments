{
 "cells": [
  {
   "cell_type": "code",
   "execution_count": 9,
   "id": "de2e86e8",
   "metadata": {},
   "outputs": [
    {
     "name": "stdout",
     "output_type": "stream",
     "text": [
      "Collecting mysql-connector-python\n",
      "  Downloading mysql_connector_python-8.0.29-cp39-cp39-win_amd64.whl (7.7 MB)\n",
      "Collecting protobuf>=3.0.0\n",
      "  Downloading protobuf-4.21.1-cp39-cp39-win_amd64.whl (524 kB)\n",
      "Installing collected packages: protobuf, mysql-connector-python\n",
      "Successfully installed mysql-connector-python-8.0.29 protobuf-4.21.1\n"
     ]
    }
   ],
   "source": [
    "!pip install mysql-connector-python"
   ]
  },
  {
   "cell_type": "code",
   "execution_count": 9,
   "id": "25825b59",
   "metadata": {},
   "outputs": [],
   "source": [
    "import sys\n",
    "import mysql.connector\n",
    "from mysql.connector import Error\n",
    "\n",
    "\n",
    "class class_sql_procedure:\n",
    "\n",
    "    def sql_cursor_start(self):\n",
    "        try:\n",
    "            self.connection = mysql.connector.connect(host='localhost',\n",
    "                                                 database='BankAccount',\n",
    "                                                 user='root',\n",
    "                                                 password='mysql')\n",
    "            self.mycursor = self.connection.cursor()\n",
    "            print('Mysql connection stablished')\n",
    "        except :\n",
    "            print(sys.exc_info()[0],\"occured.\")\n",
    "\n",
    "    def sql_connection_close(self):\n",
    "        try:\n",
    "            if self.connection.is_connected():\n",
    "                    self.mycursor.close()\n",
    "                    self.connection.close()\n",
    "                    print(\"MySQL connection is closed\")\n",
    "        except :\n",
    "            print(sys.exc_info()[0],\"occured.\")"
   ]
  },
  {
   "cell_type": "code",
   "execution_count": 10,
   "id": "62c20482",
   "metadata": {},
   "outputs": [],
   "source": [
    "sql_obj = class_sql_procedure()"
   ]
  },
  {
   "cell_type": "code",
   "execution_count": 11,
   "id": "d7339505",
   "metadata": {},
   "outputs": [
    {
     "name": "stdout",
     "output_type": "stream",
     "text": [
      "Mysql connection stablished\n"
     ]
    }
   ],
   "source": [
    "sql_obj.sql_cursor_start()"
   ]
  },
  {
   "cell_type": "code",
   "execution_count": null,
   "id": "5dee1ec0",
   "metadata": {},
   "outputs": [],
   "source": []
  },
  {
   "cell_type": "code",
   "execution_count": null,
   "id": "37476c6a",
   "metadata": {},
   "outputs": [],
   "source": []
  },
  {
   "cell_type": "code",
   "execution_count": null,
   "id": "2f225dc4",
   "metadata": {},
   "outputs": [],
   "source": []
  },
  {
   "cell_type": "code",
   "execution_count": null,
   "id": "236effd9",
   "metadata": {},
   "outputs": [],
   "source": []
  },
  {
   "cell_type": "code",
   "execution_count": null,
   "id": "f7585c5c",
   "metadata": {},
   "outputs": [],
   "source": []
  },
  {
   "cell_type": "code",
   "execution_count": null,
   "id": "9c506c16",
   "metadata": {},
   "outputs": [],
   "source": []
  },
  {
   "cell_type": "code",
   "execution_count": null,
   "id": "4d83b1d3",
   "metadata": {},
   "outputs": [],
   "source": []
  },
  {
   "cell_type": "code",
   "execution_count": null,
   "id": "04569697",
   "metadata": {},
   "outputs": [],
   "source": []
  },
  {
   "cell_type": "code",
   "execution_count": null,
   "id": "c8c390a5",
   "metadata": {},
   "outputs": [],
   "source": []
  },
  {
   "cell_type": "code",
   "execution_count": 12,
   "id": "58c4d08d",
   "metadata": {},
   "outputs": [],
   "source": [
    "import mysql.connector\n",
    "#create connection to mysql database\n",
    "conn = mysql.connector.connect(user='root', password='mysql', host='localhost', database='BankAccount')"
   ]
  },
  {
   "cell_type": "code",
   "execution_count": 17,
   "id": "6f142d84",
   "metadata": {},
   "outputs": [],
   "source": [
    "# create cursor object\n",
    "cursor = conn.cursor()\n",
    "# create table as User Table(User Id, User name, User dob,User email, User created date )\n"
   ]
  },
  {
   "cell_type": "code",
   "execution_count": 18,
   "id": "18be5a29",
   "metadata": {},
   "outputs": [],
   "source": [
    "# create table as User Table(User Id, User name, User dob,User email, User created date )\n",
    "cursor.execute(\"\"\"CREATE TABLE IF NOT EXISTS User(\n",
    "                User_Id INT AUTO_INCREMENT PRIMARY KEY, \n",
    "                User_Name VARCHAR(255) NOT NULL,\n",
    "                User_DOB DATE NOT NULL,\n",
    "                User_Email VARCHAR(255) NOT NULL,\n",
    "                User_Created_Date DATE NOT NULL\n",
    "                )\"\"\")"
   ]
  },
  {
   "cell_type": "code",
   "execution_count": null,
   "id": "bf8cf3a8",
   "metadata": {},
   "outputs": [],
   "source": []
  },
  {
   "cell_type": "code",
   "execution_count": 20,
   "id": "76f2f5e4",
   "metadata": {},
   "outputs": [],
   "source": [
    "# insert data into table\n",
    "cursor.execute('insert into User values(1, \"John\", \"1990-01-01\", \"jhon@gamil.com\", \"2020-01-01\")')\n",
    "cursor.execute('insert into User values(2, \"Smith\", \"1992-02-12\", \"smith@gmail.com\", \"2020-01-02\")')\n",
    "cursor.execute('insert into User values(3, \"Peter\", \"1993-02-10\", \"Peter@gmail.com\", \"2020-01-04\")')\n",
    "cursor.execute('insert into User values(4, \"James\", \"1996-02-11\", \"James@gmail.com\", \"2020-01-05\")')"
   ]
  },
  {
   "cell_type": "code",
   "execution_count": 21,
   "id": "2c4c9e4e",
   "metadata": {},
   "outputs": [],
   "source": [
    "#create table as Bank_Account Table  ( User Id, bank account id, bank account number, is user active, amount )\n",
    "cursor.execute(\"\"\"CREATE TABLE IF NOT EXISTS Bank_Account(\n",
    "                User_Id INT NOT NULL,\n",
    "                Bank_Account_Id INT AUTO_INCREMENT PRIMARY KEY,\n",
    "                Bank_Account_Number VARCHAR(255) NOT NULL,\n",
    "                Is_User_Active BOOLEAN NOT NULL,\n",
    "                Amount DECIMAL(10,2) NOT NULL,\n",
    "                FOREIGN KEY (User_Id) REFERENCES User(User_Id)\n",
    "                )\"\"\")\n",
    "# insert data into Bank_Account table\n",
    "cursor.execute('insert into Bank_Account values(1, 101, \"123456781\", 1, 10000)')\n",
    "cursor.execute('insert into Bank_Account values(2, 102, \"123456782\", 1, 20000)')\n",
    "cursor.execute('insert into Bank_Account values(3, 103, \"123456783\", 1, 30000)')\n",
    "cursor.execute('insert into Bank_Account values(4, 104, \"123456784\", 1, 40000)')"
   ]
  },
  {
   "cell_type": "code",
   "execution_count": 22,
   "id": "c691148d",
   "metadata": {},
   "outputs": [],
   "source": [
    "#create table as Transaction Table ( Transaction date, User Id, Bank A/C id, withdrawn amount )\n",
    "cursor.execute(\"\"\"CREATE TABLE IF NOT EXISTS Transaction(\n",
    "                Transaction_Date DATE NOT NULL,\n",
    "                User_Id INT NOT NULL,\n",
    "                Bank_Account_Id INT NOT NULL,\n",
    "                Withdrawn_Amount DECIMAL(10,2) NOT NULL,\n",
    "                FOREIGN KEY (User_Id) REFERENCES User(User_Id),\n",
    "                FOREIGN KEY (Bank_Account_Id) REFERENCES Bank_Account(Bank_Account_Id)\n",
    "                )\"\"\")\n",
    "# insert data into Transaction table and date format is yyyy-mm-dd and same person having multiple random transactions\n",
    "cursor.execute('insert into Transaction values(\"2020-01-01\", 1, 101, 1000)')\n",
    "cursor.execute('insert into Transaction values(\"2020-01-02\", 1, 101, 2000)')\n",
    "cursor.execute('insert into Transaction values(\"2020-01-03\", 1, 101, 3000)')\n",
    "cursor.execute('insert into Transaction values(\"2020-01-04\", 2, 102, 4000)')\n",
    "cursor.execute('insert into Transaction values(\"2020-01-05\", 2, 102, 5000)')\n",
    "cursor.execute('insert into Transaction values(\"2020-01-06\", 3, 103, 6000)')\n",
    "cursor.execute('insert into Transaction values(\"2020-01-07\", 3, 103, 7000)')\n",
    "cursor.execute('insert into Transaction values(\"2020-01-08\", 4, 104, 8000)')\n",
    "cursor.execute('insert into Transaction values(\"2020-01-09\", 4, 104, 9000)')\n"
   ]
  },
  {
   "cell_type": "code",
   "execution_count": 84,
   "id": "ae37e407",
   "metadata": {},
   "outputs": [],
   "source": [
    "# Create a new stored procedure in mysql to check the account balance of a particular user\n",
    "cursor.execute(\"\"\"\n",
    "CREATE PROCEDURE Check_Account_Bal(IN UserId INT)\n",
    "BEGIN\n",
    "    SELECT SUM(Withdrawn_Amount) FROM Transaction WHERE User_Id = UserId;\n",
    "END\"\"\")"
   ]
  },
  {
   "cell_type": "code",
   "execution_count": 89,
   "id": "6da93d6c",
   "metadata": {},
   "outputs": [
    {
     "data": {
      "text/plain": [
       "<generator object CMySQLCursor.stored_results at 0x00000231966FEEB0>"
      ]
     },
     "execution_count": 89,
     "metadata": {},
     "output_type": "execute_result"
    }
   ],
   "source": [
    "cursor.callproc('Check_Account_Bal',[4,])\n",
    "cursor.stored_results()"
   ]
  },
  {
   "cell_type": "code",
   "execution_count": 90,
   "id": "5867be41",
   "metadata": {},
   "outputs": [
    {
     "name": "stdout",
     "output_type": "stream",
     "text": [
      "(Decimal('17000.00'),)\n"
     ]
    }
   ],
   "source": [
    "# print out the result\n",
    "for result in cursor.stored_results():\n",
    "            print(result.fetchone())"
   ]
  },
  {
   "cell_type": "code",
   "execution_count": 92,
   "id": "5c3e2ff5",
   "metadata": {
    "scrolled": true
   },
   "outputs": [
    {
     "ename": "ProgrammingError",
     "evalue": "1304 (42000): PROCEDURE Acc_Statement already exists",
     "output_type": "error",
     "traceback": [
      "\u001b[1;31m---------------------------------------------------------------------------\u001b[0m",
      "\u001b[1;31mMySQLInterfaceError\u001b[0m                       Traceback (most recent call last)",
      "\u001b[1;32m~\\anaconda3\\lib\\site-packages\\mysql\\connector\\connection_cext.py\u001b[0m in \u001b[0;36mcmd_query\u001b[1;34m(self, query, raw, buffered, raw_as_string)\u001b[0m\n\u001b[0;32m    534\u001b[0m                 \u001b[0mquery\u001b[0m \u001b[1;33m=\u001b[0m \u001b[0mquery\u001b[0m\u001b[1;33m.\u001b[0m\u001b[0mencode\u001b[0m\u001b[1;33m(\u001b[0m\u001b[1;34m'utf-8'\u001b[0m\u001b[1;33m)\u001b[0m\u001b[1;33m\u001b[0m\u001b[1;33m\u001b[0m\u001b[0m\n\u001b[1;32m--> 535\u001b[1;33m             self._cmysql.query(query,\n\u001b[0m\u001b[0;32m    536\u001b[0m                                \u001b[0mraw\u001b[0m\u001b[1;33m=\u001b[0m\u001b[0mraw\u001b[0m\u001b[1;33m,\u001b[0m \u001b[0mbuffered\u001b[0m\u001b[1;33m=\u001b[0m\u001b[0mbuffered\u001b[0m\u001b[1;33m,\u001b[0m\u001b[1;33m\u001b[0m\u001b[1;33m\u001b[0m\u001b[0m\n",
      "\u001b[1;31mMySQLInterfaceError\u001b[0m: PROCEDURE Acc_Statement already exists",
      "\nDuring handling of the above exception, another exception occurred:\n",
      "\u001b[1;31mProgrammingError\u001b[0m                          Traceback (most recent call last)",
      "\u001b[1;32m~\\AppData\\Local\\Temp/ipykernel_11480/297947698.py\u001b[0m in \u001b[0;36m<module>\u001b[1;34m\u001b[0m\n\u001b[0;32m      1\u001b[0m \u001b[1;31m#create stored procedure to Check account statement: Users should be able to check all transactions for a given interval of time.(From date and To date)\u001b[0m\u001b[1;33m\u001b[0m\u001b[1;33m\u001b[0m\u001b[0m\n\u001b[1;32m----> 2\u001b[1;33m cursor.execute(\"\"\"CREATE PROCEDURE Acc_Statement(IN UserId INT, IN FromDate DATE, IN ToDate DATE)\n\u001b[0m\u001b[0;32m      3\u001b[0m \u001b[0mBEGIN\u001b[0m\u001b[1;33m\u001b[0m\u001b[1;33m\u001b[0m\u001b[0m\n\u001b[0;32m      4\u001b[0m \u001b[0mSELECT\u001b[0m \u001b[1;33m*\u001b[0m \u001b[0mFROM\u001b[0m \u001b[0mTransaction\u001b[0m \u001b[0mWHERE\u001b[0m \u001b[0mUser_Id\u001b[0m \u001b[1;33m=\u001b[0m \u001b[0mUserId\u001b[0m \u001b[0mAND\u001b[0m \u001b[0mTransaction_Date\u001b[0m \u001b[0mBETWEEN\u001b[0m \u001b[0mFromDate\u001b[0m \u001b[0mAND\u001b[0m \u001b[0mToDate\u001b[0m\u001b[1;33m;\u001b[0m\u001b[1;33m\u001b[0m\u001b[1;33m\u001b[0m\u001b[0m\n\u001b[0;32m      5\u001b[0m END\"\"\")\n",
      "\u001b[1;32m~\\anaconda3\\lib\\site-packages\\mysql\\connector\\cursor_cext.py\u001b[0m in \u001b[0;36mexecute\u001b[1;34m(self, operation, params, multi)\u001b[0m\n\u001b[0;32m    267\u001b[0m \u001b[1;33m\u001b[0m\u001b[0m\n\u001b[0;32m    268\u001b[0m         \u001b[1;32mtry\u001b[0m\u001b[1;33m:\u001b[0m\u001b[1;33m\u001b[0m\u001b[1;33m\u001b[0m\u001b[0m\n\u001b[1;32m--> 269\u001b[1;33m             result = self._cnx.cmd_query(stmt, raw=self._raw,\n\u001b[0m\u001b[0;32m    270\u001b[0m                                          \u001b[0mbuffered\u001b[0m\u001b[1;33m=\u001b[0m\u001b[0mself\u001b[0m\u001b[1;33m.\u001b[0m\u001b[0m_buffered\u001b[0m\u001b[1;33m,\u001b[0m\u001b[1;33m\u001b[0m\u001b[1;33m\u001b[0m\u001b[0m\n\u001b[0;32m    271\u001b[0m                                          raw_as_string=self._raw_as_string)\n",
      "\u001b[1;32m~\\anaconda3\\lib\\site-packages\\mysql\\connector\\connection_cext.py\u001b[0m in \u001b[0;36mcmd_query\u001b[1;34m(self, query, raw, buffered, raw_as_string)\u001b[0m\n\u001b[0;32m    538\u001b[0m                                query_attrs=self._query_attrs)\n\u001b[0;32m    539\u001b[0m         \u001b[1;32mexcept\u001b[0m \u001b[0mMySQLInterfaceError\u001b[0m \u001b[1;32mas\u001b[0m \u001b[0mexc\u001b[0m\u001b[1;33m:\u001b[0m\u001b[1;33m\u001b[0m\u001b[1;33m\u001b[0m\u001b[0m\n\u001b[1;32m--> 540\u001b[1;33m             raise errors.get_mysql_exception(exc.errno, msg=exc.msg,\n\u001b[0m\u001b[0;32m    541\u001b[0m                                              sqlstate=exc.sqlstate)\n\u001b[0;32m    542\u001b[0m         \u001b[1;32mexcept\u001b[0m \u001b[0mAttributeError\u001b[0m\u001b[1;33m:\u001b[0m\u001b[1;33m\u001b[0m\u001b[1;33m\u001b[0m\u001b[0m\n",
      "\u001b[1;31mProgrammingError\u001b[0m: 1304 (42000): PROCEDURE Acc_Statement already exists"
     ]
    }
   ],
   "source": [
    "#create stored procedure to Check account statement: Users should be able to check all transactions for a given interval of time.(From date and To date)\n",
    "cursor.execute(\"\"\"CREATE PROCEDURE Acc_Statement(IN UserId INT, IN FromDate DATE, IN ToDate DATE)\n",
    "BEGIN\n",
    "SELECT * FROM Transaction WHERE User_Id = UserId AND Transaction_Date BETWEEN FromDate AND ToDate;\n",
    "END\"\"\")\n",
    "\n",
    "    "
   ]
  },
  {
   "cell_type": "code",
   "execution_count": 100,
   "id": "061732dc",
   "metadata": {},
   "outputs": [
    {
     "name": "stdout",
     "output_type": "stream",
     "text": [
      "[(datetime.date(2020, 1, 1), 1, 101, Decimal('1000.00')), (datetime.date(2020, 1, 2), 1, 101, Decimal('2000.00')), (datetime.date(2020, 1, 3), 1, 101, Decimal('3000.00'))]\n"
     ]
    }
   ],
   "source": [
    "# call the stored procedure to check the account statement of a particular user\n",
    "cursor.callproc('Acc_Statement', (1, '2020-01-01', '2020-01-10'))\n",
    "# get the result\n",
    "for result in cursor.stored_results():\n",
    "    print(result.fetchall())"
   ]
  },
  {
   "cell_type": "code",
   "execution_count": 95,
   "id": "6b08d238",
   "metadata": {},
   "outputs": [
    {
     "ename": "ProgrammingError",
     "evalue": "1304 (42000): PROCEDURE Withdraw_Amount already exists",
     "output_type": "error",
     "traceback": [
      "\u001b[1;31m---------------------------------------------------------------------------\u001b[0m",
      "\u001b[1;31mMySQLInterfaceError\u001b[0m                       Traceback (most recent call last)",
      "\u001b[1;32m~\\anaconda3\\lib\\site-packages\\mysql\\connector\\connection_cext.py\u001b[0m in \u001b[0;36mcmd_query\u001b[1;34m(self, query, raw, buffered, raw_as_string)\u001b[0m\n\u001b[0;32m    534\u001b[0m                 \u001b[0mquery\u001b[0m \u001b[1;33m=\u001b[0m \u001b[0mquery\u001b[0m\u001b[1;33m.\u001b[0m\u001b[0mencode\u001b[0m\u001b[1;33m(\u001b[0m\u001b[1;34m'utf-8'\u001b[0m\u001b[1;33m)\u001b[0m\u001b[1;33m\u001b[0m\u001b[1;33m\u001b[0m\u001b[0m\n\u001b[1;32m--> 535\u001b[1;33m             self._cmysql.query(query,\n\u001b[0m\u001b[0;32m    536\u001b[0m                                \u001b[0mraw\u001b[0m\u001b[1;33m=\u001b[0m\u001b[0mraw\u001b[0m\u001b[1;33m,\u001b[0m \u001b[0mbuffered\u001b[0m\u001b[1;33m=\u001b[0m\u001b[0mbuffered\u001b[0m\u001b[1;33m,\u001b[0m\u001b[1;33m\u001b[0m\u001b[1;33m\u001b[0m\u001b[0m\n",
      "\u001b[1;31mMySQLInterfaceError\u001b[0m: PROCEDURE Withdraw_Amount already exists",
      "\nDuring handling of the above exception, another exception occurred:\n",
      "\u001b[1;31mProgrammingError\u001b[0m                          Traceback (most recent call last)",
      "\u001b[1;32m~\\AppData\\Local\\Temp/ipykernel_11480/1213433912.py\u001b[0m in \u001b[0;36m<module>\u001b[1;34m\u001b[0m\n\u001b[0;32m      1\u001b[0m \u001b[1;31m#Create a stored procedure to withdraw the amount where User must have a sufficient amount to withdraw money from his/her account.\u001b[0m\u001b[1;33m\u001b[0m\u001b[1;33m\u001b[0m\u001b[0m\n\u001b[0;32m      2\u001b[0m \u001b[1;31m# and Minimum balance 5000 rupees must be maintained in each user account.\u001b[0m\u001b[1;33m\u001b[0m\u001b[1;33m\u001b[0m\u001b[0m\n\u001b[1;32m----> 3\u001b[1;33m cursor.execute(\"\"\"CREATE PROCEDURE Withdraw_Amount(IN UserId INT, IN Amount DECIMAL(10,2))\n\u001b[0m\u001b[0;32m      4\u001b[0m \u001b[0mBEGIN\u001b[0m\u001b[1;33m\u001b[0m\u001b[1;33m\u001b[0m\u001b[0m\n\u001b[0;32m      5\u001b[0m \u001b[0mSELECT\u001b[0m \u001b[1;33m*\u001b[0m \u001b[0mFROM\u001b[0m \u001b[0mBank_Account\u001b[0m \u001b[0mWHERE\u001b[0m \u001b[0mUser_Id\u001b[0m \u001b[1;33m=\u001b[0m \u001b[0mUserId\u001b[0m \u001b[0mAND\u001b[0m \u001b[0mAmount\u001b[0m \u001b[1;33m<=\u001b[0m \u001b[0mAmount\u001b[0m \u001b[0mAND\u001b[0m \u001b[0mAmount\u001b[0m \u001b[1;33m<=\u001b[0m \u001b[1;36m5000\u001b[0m\u001b[1;33m;\u001b[0m\u001b[1;33m\u001b[0m\u001b[1;33m\u001b[0m\u001b[0m\n",
      "\u001b[1;32m~\\anaconda3\\lib\\site-packages\\mysql\\connector\\cursor_cext.py\u001b[0m in \u001b[0;36mexecute\u001b[1;34m(self, operation, params, multi)\u001b[0m\n\u001b[0;32m    267\u001b[0m \u001b[1;33m\u001b[0m\u001b[0m\n\u001b[0;32m    268\u001b[0m         \u001b[1;32mtry\u001b[0m\u001b[1;33m:\u001b[0m\u001b[1;33m\u001b[0m\u001b[1;33m\u001b[0m\u001b[0m\n\u001b[1;32m--> 269\u001b[1;33m             result = self._cnx.cmd_query(stmt, raw=self._raw,\n\u001b[0m\u001b[0;32m    270\u001b[0m                                          \u001b[0mbuffered\u001b[0m\u001b[1;33m=\u001b[0m\u001b[0mself\u001b[0m\u001b[1;33m.\u001b[0m\u001b[0m_buffered\u001b[0m\u001b[1;33m,\u001b[0m\u001b[1;33m\u001b[0m\u001b[1;33m\u001b[0m\u001b[0m\n\u001b[0;32m    271\u001b[0m                                          raw_as_string=self._raw_as_string)\n",
      "\u001b[1;32m~\\anaconda3\\lib\\site-packages\\mysql\\connector\\connection_cext.py\u001b[0m in \u001b[0;36mcmd_query\u001b[1;34m(self, query, raw, buffered, raw_as_string)\u001b[0m\n\u001b[0;32m    538\u001b[0m                                query_attrs=self._query_attrs)\n\u001b[0;32m    539\u001b[0m         \u001b[1;32mexcept\u001b[0m \u001b[0mMySQLInterfaceError\u001b[0m \u001b[1;32mas\u001b[0m \u001b[0mexc\u001b[0m\u001b[1;33m:\u001b[0m\u001b[1;33m\u001b[0m\u001b[1;33m\u001b[0m\u001b[0m\n\u001b[1;32m--> 540\u001b[1;33m             raise errors.get_mysql_exception(exc.errno, msg=exc.msg,\n\u001b[0m\u001b[0;32m    541\u001b[0m                                              sqlstate=exc.sqlstate)\n\u001b[0;32m    542\u001b[0m         \u001b[1;32mexcept\u001b[0m \u001b[0mAttributeError\u001b[0m\u001b[1;33m:\u001b[0m\u001b[1;33m\u001b[0m\u001b[1;33m\u001b[0m\u001b[0m\n",
      "\u001b[1;31mProgrammingError\u001b[0m: 1304 (42000): PROCEDURE Withdraw_Amount already exists"
     ]
    }
   ],
   "source": [
    "#Create a stored procedure to withdraw the amount where User must have a sufficient amount to withdraw money from his/her account.\n",
    "# and Minimum balance 5000 rupees must be maintained in each user account.\n",
    "cursor.execute(\"\"\"CREATE PROCEDURE Withdraw_Amount(IN UserId INT, IN Amount DECIMAL(10,2))\n",
    "BEGIN\n",
    "SELECT * FROM Bank_Account WHERE User_Id = UserId AND Amount <= Amount AND Amount <= 5000;\n",
    "END\"\"\")\n"
   ]
  },
  {
   "cell_type": "code",
   "execution_count": 98,
   "id": "eeae07a8",
   "metadata": {},
   "outputs": [
    {
     "name": "stdout",
     "output_type": "stream",
     "text": [
      "[]\n"
     ]
    }
   ],
   "source": [
    "# call the stored procedure to withdraw the amount where User must have a sufficient amount to withdraw money from his/her account.\n",
    "# and Minimum balance 5000 rupees must be maintained in each user account.\n",
    "cursor.callproc('Withdraw_Amount', (1, 10000))\n",
    "# get the result\n",
    "for result in cursor.stored_results():\n",
    "    print(result.fetchall())"
   ]
  },
  {
   "cell_type": "code",
   "execution_count": 102,
   "id": "6da58caf",
   "metadata": {},
   "outputs": [],
   "source": [
    "cursor.execute(\"\"\"CREATE PROCEDURE WithdrawAmount(IN UserId INT, IN Amount DECIMAL(10,2))\n",
    "BEGIN\n",
    "SELECT * FROM Bank_Account WHERE User_Id = UserId AND Amount >= 5000 AND Amount >= Amount - Withdrawn_Amount;\n",
    "END\"\"\")\n",
    "# call the stored `procedure to withdraw the amount when user has the amount greater than 5000 after reducing the amount by withdrawn amount\n",
    "# and minimum balance 5000 rupees must be maintained in each user account.\n"
   ]
  },
  {
   "cell_type": "code",
   "execution_count": 111,
   "id": "dfa756ad",
   "metadata": {},
   "outputs": [
    {
     "name": "stdout",
     "output_type": "stream",
     "text": [
      "[(2, 102, '123456782', 1, Decimal('20000.00'))]\n"
     ]
    }
   ],
   "source": [
    "cursor.callproc('Withdraw_Amount', (2, 4000))\n",
    "# get the result\n",
    "for result in cursor.stored_results():\n",
    "    print(result.fetchall())"
   ]
  },
  {
   "cell_type": "code",
   "execution_count": null,
   "id": "dd522872",
   "metadata": {},
   "outputs": [],
   "source": [
    "cursor.execute(\"\"\"CREATE PROCEDURE withdraw_amt01(IN User_Id1 INT)\n",
    "Begin\n",
    "SELECT distinct bank_account.User_Id,bank_account.Amount - sum(transaction.Withdrawn_Amount) as Current_Amt FROM Bank_Account  inner join Transaction on Bank_Account.User_Id = Transaction.User_Id                      \n",
    "where bank_account.User_Id = User_Id1 group by bank_account.User_Id having Current_Amt > 5000;\n",
    "End"
   ]
  },
  {
   "cell_type": "code",
   "execution_count": 7,
   "id": "3e285409",
   "metadata": {
    "scrolled": true
   },
   "outputs": [
    {
     "ename": "OperationalError",
     "evalue": "(20009, b'DB-Lib error message 20009, severity 9:\\nUnable to connect: Adaptive Server is unavailable or does not exist (PC)\\nDB-Lib error message 20009, severity 9:\\nUnable to connect: Adaptive Server is unavailable or does not exist (PC)\\n')",
     "output_type": "error",
     "traceback": [
      "\u001b[1;31m---------------------------------------------------------------------------\u001b[0m",
      "\u001b[1;31mMSSQLDatabaseException\u001b[0m                    Traceback (most recent call last)",
      "\u001b[1;32msrc\\pymssql\\_pymssql.pyx\u001b[0m in \u001b[0;36mpymssql._pymssql.connect\u001b[1;34m()\u001b[0m\n",
      "\u001b[1;32msrc\\pymssql\\_mssql.pyx\u001b[0m in \u001b[0;36mpymssql._mssql.connect\u001b[1;34m()\u001b[0m\n",
      "\u001b[1;32msrc\\pymssql\\_mssql.pyx\u001b[0m in \u001b[0;36mpymssql._mssql.MSSQLConnection.__init__\u001b[1;34m()\u001b[0m\n",
      "\u001b[1;32msrc\\pymssql\\_mssql.pyx\u001b[0m in \u001b[0;36mpymssql._mssql.maybe_raise_MSSQLDatabaseException\u001b[1;34m()\u001b[0m\n",
      "\u001b[1;32msrc\\pymssql\\_mssql.pyx\u001b[0m in \u001b[0;36mpymssql._mssql.raise_MSSQLDatabaseException\u001b[1;34m()\u001b[0m\n",
      "\u001b[1;31mMSSQLDatabaseException\u001b[0m: (20009, b'DB-Lib error message 20009, severity 9:\\nUnable to connect: Adaptive Server is unavailable or does not exist (PC)\\nDB-Lib error message 20009, severity 9:\\nUnable to connect: Adaptive Server is unavailable or does not exist (PC)\\n')",
      "\nDuring handling of the above exception, another exception occurred:\n",
      "\u001b[1;31mOperationalError\u001b[0m                          Traceback (most recent call last)",
      "\u001b[1;32m~\\AppData\\Local\\Temp/ipykernel_17232/3983251002.py\u001b[0m in \u001b[0;36m<module>\u001b[1;34m\u001b[0m\n\u001b[0;32m      5\u001b[0m \u001b[1;31m# using python create table in sql server database having colums User Id, User name, User dob,User email, User created date\u001b[0m\u001b[1;33m\u001b[0m\u001b[1;33m\u001b[0m\u001b[0m\n\u001b[0;32m      6\u001b[0m \u001b[1;31m# create connection to sql server database\u001b[0m\u001b[1;33m\u001b[0m\u001b[1;33m\u001b[0m\u001b[0m\n\u001b[1;32m----> 7\u001b[1;33m \u001b[0mconn\u001b[0m \u001b[1;33m=\u001b[0m \u001b[0mpymssql\u001b[0m\u001b[1;33m.\u001b[0m\u001b[0mconnect\u001b[0m\u001b[1;33m(\u001b[0m\u001b[0mserver\u001b[0m\u001b[1;33m=\u001b[0m\u001b[1;34m'PC\\FIRST'\u001b[0m\u001b[1;33m,\u001b[0m \u001b[0muser\u001b[0m\u001b[1;33m=\u001b[0m\u001b[1;34m'sa'\u001b[0m\u001b[1;33m,\u001b[0m \u001b[0mpassword\u001b[0m\u001b[1;33m=\u001b[0m\u001b[1;34m'first'\u001b[0m\u001b[1;33m,\u001b[0m \u001b[0mdatabase\u001b[0m\u001b[1;33m=\u001b[0m\u001b[1;34m'BankAccount'\u001b[0m\u001b[1;33m)\u001b[0m   \u001b[1;31m#connect to sql server database test\u001b[0m\u001b[1;33m\u001b[0m\u001b[1;33m\u001b[0m\u001b[0m\n\u001b[0m\u001b[0;32m      8\u001b[0m \u001b[1;31m# create cursor object\u001b[0m\u001b[1;33m\u001b[0m\u001b[1;33m\u001b[0m\u001b[0m\n\u001b[0;32m      9\u001b[0m \u001b[0mcursor\u001b[0m \u001b[1;33m=\u001b[0m \u001b[0mconn\u001b[0m\u001b[1;33m.\u001b[0m\u001b[0mcursor\u001b[0m\u001b[1;33m(\u001b[0m\u001b[1;33m)\u001b[0m\u001b[1;33m\u001b[0m\u001b[1;33m\u001b[0m\u001b[0m\n",
      "\u001b[1;32msrc\\pymssql\\_pymssql.pyx\u001b[0m in \u001b[0;36mpymssql._pymssql.connect\u001b[1;34m()\u001b[0m\n",
      "\u001b[1;31mOperationalError\u001b[0m: (20009, b'DB-Lib error message 20009, severity 9:\\nUnable to connect: Adaptive Server is unavailable or does not exist (PC)\\nDB-Lib error message 20009, severity 9:\\nUnable to connect: Adaptive Server is unavailable or does not exist (PC)\\n')"
     ]
    }
   ],
   "source": []
  },
  {
   "cell_type": "code",
   "execution_count": null,
   "id": "c99d393a",
   "metadata": {},
   "outputs": [],
   "source": []
  },
  {
   "cell_type": "code",
   "execution_count": null,
   "id": "08ae43d5",
   "metadata": {},
   "outputs": [],
   "source": []
  },
  {
   "cell_type": "code",
   "execution_count": null,
   "id": "cdc4bdf8",
   "metadata": {},
   "outputs": [],
   "source": []
  }
 ],
 "metadata": {
  "kernelspec": {
   "display_name": "Python 3 (ipykernel)",
   "language": "python",
   "name": "python3"
  },
  "language_info": {
   "codemirror_mode": {
    "name": "ipython",
    "version": 3
   },
   "file_extension": ".py",
   "mimetype": "text/x-python",
   "name": "python",
   "nbconvert_exporter": "python",
   "pygments_lexer": "ipython3",
   "version": "3.9.7"
  }
 },
 "nbformat": 4,
 "nbformat_minor": 5
}
